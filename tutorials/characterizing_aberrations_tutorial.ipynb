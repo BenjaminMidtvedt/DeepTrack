{
 "cells": [
  {
   "cell_type": "code",
   "execution_count": null,
   "metadata": {},
   "outputs": [],
   "source": [
    "%matplotlib inline\n",
    "import sys\n",
    "sys.path.append(\"..\")"
   ]
  },
  {
   "cell_type": "markdown",
   "metadata": {},
   "source": [
    "# DeepTrack - Characterizing aberrations\n",
    "\n",
    "This notebook demonstrates how to characterize the aberrations in an optical device using an image of particle. We will specifically look at spherical aberration, though the example can be extended to other aberrations.\n",
    "\n",
    "It is recommended to read both [deeptrack_introdution_tutorial](./deeptrack_introdution_tutorial.ipynb) and [tracking_particle_cnn_tutorial](./tracking_particle_cnn_tutorial.ipynb) before reading this tutorial."
   ]
  },
  {
   "cell_type": "markdown",
   "metadata": {},
   "source": [
    "## 1. Setup\n",
    "\n",
    "Imports needed for this tutorial."
   ]
  },
  {
   "cell_type": "code",
   "execution_count": null,
   "metadata": {},
   "outputs": [],
   "source": [
    "import numpy as np\n",
    "import matplotlib.pyplot as plt\n",
    "\n",
    "from deeptrack.scatterers import Ellipse\n",
    "from deeptrack.optics import Fluorescence\n",
    "from deeptrack.noises import Poisson, Offset\n",
    "from deeptrack.aberrations import SphericalAberration\n",
    "from deeptrack.math import NormalizeMinMax\n",
    "\n",
    "from deeptrack.models import convolutional\n",
    "from deeptrack.generators import Generator"
   ]
  },
  {
   "cell_type": "markdown",
   "metadata": {},
   "source": [
    "## 2. Defining the features\n",
    "\n",
    "We define the features needed for this example. \n",
    "\n",
    "* optics - Flourescence microscope with a pixel size of 0.1 microns and a 128x128 camera\n",
    "* particle - Spherical particle roughly centered in the image, a micron out of focus\n",
    "* aberration - Spherical aberration with a coefficient between -4 and 4\n",
    "* noise - A constant background illumantion and a Poisson noise with SNR 100\n",
    "* normalization - Maps the image to values between 0 and 1.\n",
    "\n",
    "SphericalAberration is a wrapper of the more general Zernike feature, which introduces a phase to the pupil function based on the normalized Zernike polynomials. The property coefficient is a multiplier for the respective poynomial in the set of Zernike polynomials."
   ]
  },
  {
   "cell_type": "code",
   "execution_count": null,
   "metadata": {},
   "outputs": [],
   "source": [
    "optics = Fluorescence(\n",
    "    magnification=10,\n",
    "    resolution=1e-6,\n",
    "    wavelength=633e-9,\n",
    "    output_region=(0, 0, 128, 128)\n",
    ")\n",
    "\n",
    "particle = Ellipse(\n",
    "    position=lambda: np.random.randn(3) * (1, 1, 3) + (64, 64, 10),\n",
    "    position_unit=\"pixel\",\n",
    "    intensity=10,\n",
    "    radius=np.random.rand() * 1e-6 + 0.5e-6\n",
    ")\n",
    "\n",
    "aberration = SphericalAberration(coefficient=lambda: (2 * np.random.rand() - 1) * 4)\n",
    "\n",
    "noise = Offset(offset=0.01) + Poisson(snr=100)\n",
    "\n",
    "normalization = NormalizeMinMax(min=0, max=1)"
   ]
  },
  {
   "cell_type": "markdown",
   "metadata": {},
   "source": [
    "## 3. Combining the features\n",
    "\n",
    "To view the particle throught the aberrated microscope, we call `optics` with both the particle and the aberration. Then we add the noise and normalization as usual."
   ]
  },
  {
   "cell_type": "code",
   "execution_count": null,
   "metadata": {},
   "outputs": [],
   "source": [
    "aberrated_particle = optics(particle, aberration) + noise + normalization\n",
    "\n",
    "for coefficient in range(-4, 5):\n",
    "    aberration.properties[\"coefficient\"].current_value = coefficient\n",
    "    \n",
    "    plt.title(\"Spherical aberration of strength {0}\".format(coefficient))\n",
    "    aberrated_particle.plot(cmap=\"gray\")\n",
    "    "
   ]
  },
  {
   "cell_type": "markdown",
   "metadata": {},
   "source": [
    "## 4. Defining the label function and the generator\n",
    "\n",
    "We define a label function that iterates through all the properties and returns the coefficient of the SphericalAberration."
   ]
  },
  {
   "cell_type": "code",
   "execution_count": null,
   "metadata": {},
   "outputs": [],
   "source": [
    "def get_aberration(image):\n",
    "    for prop in image.properties:\n",
    "        if prop[\"name\"] == \"SphericalAberration\":\n",
    "            return prop[\"coefficient\"]\n",
    "\n",
    "generator = Generator().generate(\n",
    "    aberrated_particle, \n",
    "    get_aberration, \n",
    "    batch_size=32\n",
    ")"
   ]
  },
  {
   "cell_type": "markdown",
   "metadata": {},
   "source": [
    "## 5. Creating the model\n",
    "\n",
    "We will use a standard convolution model for this task. Since this is a regression task, we will use mean absolute error as loss."
   ]
  },
  {
   "cell_type": "code",
   "execution_count": null,
   "metadata": {},
   "outputs": [],
   "source": [
    "model = convolutional(\n",
    "    input_shape=(128, 128, 1), \n",
    "    number_of_outputs=1\n",
    ")\n",
    "\n",
    "model.compile(\n",
    "    optimizer='rmsprop', \n",
    "    loss='mae', \n",
    "    metrics=['mse', 'mae']\n",
    ")"
   ]
  },
  {
   "cell_type": "markdown",
   "metadata": {},
   "source": [
    "## 6. Training the model\n",
    "\n",
    "We train the model for 100 epochs."
   ]
  },
  {
   "cell_type": "code",
   "execution_count": null,
   "metadata": {},
   "outputs": [],
   "source": [
    "model.fit(\n",
    "    generator, \n",
    "    epochs=100, \n",
    "    steps_per_epoch=20\n",
    ")"
   ]
  },
  {
   "cell_type": "markdown",
   "metadata": {},
   "source": [
    "## Validating the result\n",
    "\n",
    "Finally we validate the result by plotting the predicted value against the true value."
   ]
  },
  {
   "cell_type": "code",
   "execution_count": null,
   "metadata": {},
   "outputs": [],
   "source": [
    "batch, labels = next(generator)\n",
    "\n",
    "prediction = model.predict(batch)\n",
    "\n",
    "plt.scatter(labels, prediction)\n",
    "plt.plot([-5, 5], [-5, 5])\n",
    "plt.gca().set_aspect('equal', adjustable='box')\n",
    "plt.xlabel(\"Ground truth\")\n",
    "plt.ylabel(\"Predicted value\")\n",
    "plt.title(\"Spherical aberration coefficient\")  "
   ]
  }
 ],
 "metadata": {
  "kernelspec": {
   "display_name": "Python 3",
   "language": "python",
   "name": "python3"
  },
  "language_info": {
   "codemirror_mode": {
    "name": "ipython",
    "version": 3
   },
   "file_extension": ".py",
   "mimetype": "text/x-python",
   "name": "python",
   "nbconvert_exporter": "python",
   "pygments_lexer": "ipython3",
   "version": "3.6.9"
  }
 },
 "nbformat": 4,
 "nbformat_minor": 2
}
