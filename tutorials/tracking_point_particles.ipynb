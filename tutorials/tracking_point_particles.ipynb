{
 "cells": [
  {
   "cell_type": "code",
   "execution_count": 1,
   "metadata": {},
   "outputs": [],
   "source": [
    "import sys\n",
    "sys.path.append(\"..\")"
   ]
  },
  {
   "cell_type": "markdown",
   "metadata": {},
   "source": [
    "# deeptrack - Tracking point particles\n",
    "\n",
    "This notebook demonstrates how to track point particles with a convolutional neural network using DeepTrack.\n",
    "\n",
    "TBD: Add general description of example."
   ]
  },
  {
   "cell_type": "markdown",
   "metadata": {},
   "source": [
    "## 1. Setup\n",
    "\n",
    "Imports needed for this tutorial."
   ]
  },
  {
   "cell_type": "code",
   "execution_count": 3,
   "metadata": {},
   "outputs": [],
   "source": [
    "from deeptrack.scatterers import PointParticle\n",
    "from deeptrack.optics import OpticalDevice\n",
    "from deeptrack.image import Image\n",
    "from deeptrack.generators import Generator\n",
    "from deeptrack.models import convolutional\n",
    "\n",
    "import numpy as np\n",
    "import matplotlib.pyplot as plt"
   ]
  },
  {
   "cell_type": "markdown",
   "metadata": {},
   "source": [
    "## 2. Define the particle\n",
    "\n",
    "For this example, we consider a point particle (i.e. a point light source). A point particle is entirely defined by its intensity and its position. A point particle is an instance of the class PointParticle.\n",
    "\n",
    "A point particle is controlled by the following parameters:\n",
    "\n",
    "* intensity: The intensity of the point particle\n",
    "\n",
    "* position: The position of the point particle\n",
    "\n",
    "* position_unit: \"pixel\" or \"meter\""
   ]
  },
  {
   "cell_type": "code",
   "execution_count": 4,
   "metadata": {},
   "outputs": [],
   "source": [
    "particle = PointParticle(                                         \n",
    "    intensity=100,\n",
    "    position=(32, 16),\n",
    "    position_unit=\"pixel\"\n",
    ")"
   ]
  },
  {
   "cell_type": "markdown",
   "metadata": {},
   "source": [
    "## 3. Define the optics \n",
    "\n",
    "Next, we need to define the properties of the optical system. This is done using an instance of the class Optics, which takes a set of light sources (particles) and convolves them with the pupil function (point spread function) of the otical system.\n",
    "\n",
    "The optics is controlled by the following parameters:\n",
    "\n",
    "* NA: The numerical aperature\n",
    "\n",
    "* pixel_size: The pixel to meter conversion factor (m/px)\n",
    "\n",
    "* wavelength: The wavelength of the lightsource (m)\n",
    "\n",
    "* mode: \"coherent\" or \"incoherent\" light emitted by the object\n",
    "\n",
    "* ROI: Region of interest that is imaged (to avoid wrap-around effects when Fourier-tranforming)\n",
    "\n",
    "* upscale: upscale factor for the pupil function (increases accuracy and computational cost)."
   ]
  },
  {
   "cell_type": "code",
   "execution_count": 5,
   "metadata": {},
   "outputs": [],
   "source": [
    "optics = OpticalDevice(\n",
    "    NA=0.7,                \n",
    "    pixel_size=0.1e-6,     \n",
    "    wavelength=680e-9\n",
    ")"
   ]
  },
  {
   "cell_type": "markdown",
   "metadata": {},
   "source": [
    "## 4. Generate and plot the image\n",
    "\n",
    "Finally, we have everything needed to create an image! \n",
    "\n",
    "#TBD This is not clear:\n",
    "\n",
    "This is done using the class method `Generator.get`. This returns an Image object. This behaves exactly like a normal numpy ndarray, just additionally storing the properties used to generating the image as a list of dicts."
   ]
  },
  {
   "cell_type": "code",
   "execution_count": 6,
   "metadata": {},
   "outputs": [
    {
     "name": "stderr",
     "output_type": "stream",
     "text": [
      "../deeptrack/optics.py:136: RuntimeWarning: invalid value encountered in power\n",
      "  pupil = (RHO < 1) / ((1 - NA**2 / refractive_index_medium**2 * RHO)**0.25)\n",
      "../deeptrack/optics.py:140: RuntimeWarning: invalid value encountered in sqrt\n",
      "  z_shift = 2 * np.pi * refractive_index_medium/wavelength * (1 - NA**2 / refractive_index_medium**2 * RHO)**0.5 * pixel_size * defocus\n"
     ]
    },
    {
     "data": {
      "image/png": "[encoded data removed]",
      "text/plain": [
       "<Figure size 432x288 with 1 Axes>"
      ]
     },
     "metadata": {
      "needs_background": "light"
     },
     "output_type": "display_data"
    }
   ],
   "source": [
    "output_image = optics(particle).plot()"
   ]
  },
  {
   "cell_type": "markdown",
   "metadata": {},
   "source": [
    "## 5. Randomize the particle position\n",
    "\n",
    "We can generate particles with random positions by passing a lambda function to as `position`. \n",
    "When this lambda function is called, it returns a random pair of numbers representing the particle position. \n",
    "\n",
    "In the example below, we also plot the position of the particle."
   ]
  },
  {
   "cell_type": "code",
   "execution_count": 7,
   "metadata": {},
   "outputs": [
    {
     "data": {
      "image/png": "[encoded data removed]",
      "text/plain": [
       "<Figure size 432x288 with 1 Axes>"
      ]
     },
     "metadata": {
      "needs_background": "light"
     },
     "output_type": "display_data"
    }
   ],
   "source": [
    "# Retrieves the current position of the particle\n",
    "def get_position():\n",
    "    return np.array(particle.properties[\"position\"].current_value)\n",
    "\n",
    "particle = PointParticle(                                         \n",
    "    intensity=100,\n",
    "    position=lambda: 10 + np.random.rand(2) * 44,\n",
    "    position_unit=\"pixel\"\n",
    ")\n",
    "\n",
    "input_image = Image(np.zeros((64, 64)))\n",
    "output_image = optics(particle).resolve(input_image)\n",
    "\n",
    "position = get_position()\n",
    "plt.gray()\n",
    "plt.imshow(output_image)\n",
    "plt.scatter(position[0], position[1])\n",
    "plt.show()"
   ]
  },
  {
   "cell_type": "markdown",
   "metadata": {},
   "source": [
    "## 5. ??\n",
    "\n",
    "???"
   ]
  },
  {
   "cell_type": "code",
   "execution_count": null,
   "metadata": {},
   "outputs": [],
   "source": [
    "G = Generator()\n",
    "\n",
    "model = deeptrackNetwork(input_shape=(64, 64, 1), number_of_outputs=2)\n",
    "\n",
    "# Divide position by 64 to get value between 0 and 1\n",
    "def get_position(image):\n",
    "    return np.array(particle.properties[\"position\"].current_value / 64)\n",
    "\n",
    "generator = G.generate(Optics(particle), get_position, shape=(64, 64), batch_size=4)\n",
    "\n",
    "\n",
    "model.fit(\n",
    "    generator,\n",
    "    epochs=1000,\n",
    "    steps_per_epoch=64\n",
    ")"
   ]
  },
  {
   "cell_type": "markdown",
   "metadata": {},
   "source": [
    "## 6. ??\n",
    "\n",
    "??"
   ]
  },
  {
   "cell_type": "code",
   "execution_count": null,
   "metadata": {},
   "outputs": [],
   "source": [
    "batch, label = next(generator)\n",
    "\n",
    "prediction = model.predict(batch)\n",
    "\n",
    "for i in range(batch.shape[0]):\n",
    "    plt.gray()\n",
    "    plt.imshow(np.squeeze(batch[i]))\n",
    "    # Multiply back 64\n",
    "    plt.scatter(prediction[i,0] * 64, prediction[i,1] * 64)\n",
    "    plt.show()"
   ]
  }
 ],
 "metadata": {
  "file_extension": ".py",
  "kernelspec": {
   "display_name": "Python 3",
   "language": "python",
   "name": "python3"
  },
  "language_info": {
   "codemirror_mode": {
    "name": "ipython",
    "version": 3
   },
   "file_extension": ".py",
   "mimetype": "text/x-python",
   "name": "python",
   "nbconvert_exporter": "python",
   "pygments_lexer": "ipython3",
   "version": "3.6.8"
  },
  "mimetype": "text/x-python",
  "name": "python",
  "npconvert_exporter": "python",
  "pygments_lexer": "ipython3",
  "version": 3
 },
 "nbformat": 4,
 "nbformat_minor": 2
}
