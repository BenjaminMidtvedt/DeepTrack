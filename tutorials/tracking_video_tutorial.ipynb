{
 "cells": [
  {
   "cell_type": "code",
   "execution_count": null,
   "metadata": {},
   "outputs": [],
   "source": [
    "%matplotlib inline\n",
    "import sys\n",
    "sys.path.append(\"..\")"
   ]
  },
  {
   "cell_type": "markdown",
   "metadata": {},
   "source": [
    "# Creating a video of bacteria\n",
    "\n",
    "In this example we will create a video of moving bacteria."
   ]
  },
  {
   "cell_type": "markdown",
   "metadata": {},
   "source": [
    "## 1. Setup\n",
    "\n",
    "Imports needed for this tutorial"
   ]
  },
  {
   "cell_type": "code",
   "execution_count": null,
   "metadata": {},
   "outputs": [],
   "source": [
    "from deeptrack.scatterers import Ellipse\n",
    "from deeptrack.optics import Fluorescence\n",
    "from deeptrack.sequences import Sequence, Sequential, BrownianMotion\n",
    "from deeptrack.noises import Poisson, Offset\n",
    "\n",
    "from IPython.display import HTML\n",
    "import numpy as np\n",
    "import matplotlib.pyplot as plt\n",
    "import matplotlib.animation as animation"
   ]
  },
  {
   "cell_type": "markdown",
   "metadata": {},
   "source": [
    "## 2. Defining sequential features\n",
    "\n",
    "For a feature's properties to evolve over time, we call it with the function Sequential. We additionally pass functions that define how properties over time as keyword arguments. These functions should output one value each time they are called and can optionally take some keyword arguments:\n",
    "\n",
    "* sequence_step: The current position in the sequence\n",
    "* sequence_length: The length of the sequence\n",
    "* previous_value: The value of the property at the previous time step\n",
    "* previous_values: A list of all previous values in the sequence.\n",
    "\n",
    "If the property is already defined in the feature, then that property will be used for the first timestep.\n",
    "\n",
    "Below we use this to image a rotating ellipse."
   ]
  },
  {
   "cell_type": "code",
   "execution_count": null,
   "metadata": {},
   "outputs": [],
   "source": [
    "optics = Fluorescence(\n",
    "    NA=0.7,\n",
    "    magnification=10,\n",
    "    resolution=1e-6,\n",
    "    wavelength=633e-9,\n",
    "    output_region=(0, 0, 32, 32),\n",
    ")\n",
    "\n",
    "ellipse = Ellipse(\n",
    "    position_unit=\"pixel\",\n",
    "    position=(16, 16),\n",
    "    intensity=1,\n",
    "    radius=(1e-6, 1.5e-6),\n",
    "    rotation=0, # This will be the value at time 0.\n",
    ")\n",
    "\n",
    "def get_rotation(sequence_length=1, previous_value=0):\n",
    "    return previous_value + 2*np.pi / sequence_length\n",
    "\n",
    "\n",
    "rotating_ellipse = Sequential(ellipse, rotation=get_rotation)    "
   ]
  },
  {
   "cell_type": "markdown",
   "metadata": {},
   "source": [
    "### Resolving videos\n",
    "\n",
    "Sequential features (features that have been called with Sequential), can be used seamlessly with nonsequential features. To create the video, we first wrap the feature series with the feature Sequence, which defines the length of the sequence throught the property sequence_length."
   ]
  },
  {
   "cell_type": "code",
   "execution_count": null,
   "metadata": {},
   "outputs": [],
   "source": [
    "rotating_ellipse_sequence = Sequence(optics(ellipse), sequence_length=100)\n",
    "\n",
    "video_of_rotating_ellipse = rotating_ellipse_sequence.resolve()"
   ]
  },
  {
   "cell_type": "code",
   "execution_count": null,
   "metadata": {},
   "outputs": [],
   "source": [
    "# Function that takes a list of images and creates a playable video\n",
    "def play(video):\n",
    "    fig = plt.figure()\n",
    "\n",
    "    images = []\n",
    "\n",
    "    for image in video:\n",
    "        images.append([plt.imshow(image[:, :, 0], cmap=\"gray\")])\n",
    "\n",
    "    ani = animation.ArtistAnimation(fig, images, interval=1/30 * 1000, blit=True,\n",
    "                                    repeat_delay=1000)\n",
    "    return HTML(ani.to_html5_video())"
   ]
  },
  {
   "cell_type": "code",
   "execution_count": null,
   "metadata": {},
   "outputs": [],
   "source": [
    "play(video_of_rotating_ellipse)"
   ]
  },
  {
   "cell_type": "markdown",
   "metadata": {},
   "source": [
    "## 3. Defining the bacteria\n",
    "\n",
    "Bacteria will be approximated as ellipses. To do this we will use dummy properties, that is, properties that is not used by the feature to create the image. The names and values of these are completely arbitrary. These are\n",
    "\n",
    "* velocity: the velocity of the bacteria\n",
    "* area: the area of the ellipse\n",
    "* rotation_diffusion: the standard distribution of the rotation, units rads/second\n",
    "\n",
    "### Movement of the bacteria\n",
    "\n",
    "The movement is defined by an angle and a velocity, both simulated as the previous value plus some normally distributed value. "
   ]
  },
  {
   "cell_type": "code",
   "execution_count": null,
   "metadata": {},
   "outputs": [],
   "source": [
    "# The velocity of the bacteria\n",
    "def get_velocity(previous_value=1):\n",
    "    return previous_value + np.random.randn() * 5e-7\n",
    "\n",
    "# The direction of movement of the bacteria\n",
    "def get_rotation(previous_value=0, rotation_diffusion=1, dt=1/30):\n",
    "    return previous_value +  np.random.randn() * rotation_diffusion * dt\n",
    "\n",
    "# The position of the cell.\n",
    "def get_position(previous_value=(0, 0), rotation=0, velocity=0, dt=1/30):\n",
    "    orientation = np.array((np.sin(rotation), np.cos(rotation)))\n",
    "    return previous_value + (*(orientation * velocity * dt), np.random.randn()*1e-7)"
   ]
  },
  {
   "cell_type": "markdown",
   "metadata": {},
   "source": [
    "### Shape of the bacteria\n",
    "\n",
    "The bacteria is elongated along the direction of movement, proportionally to the velocity. The total area of the bacteria is conserved.\n",
    "\n",
    "The intensity of the bacteria is"
   ]
  },
  {
   "cell_type": "code",
   "execution_count": null,
   "metadata": {},
   "outputs": [],
   "source": [
    "# Primary and secondary radius of the bacteria\n",
    "def get_radius(velocity=0, area=1e-12):\n",
    "    ratio = np.min((1 + np.abs(velocity) / 4e-6, 3))\n",
    "    b = np.sqrt(area / (ratio * np.pi))\n",
    "    a = b * ratio\n",
    "    return (a, b)"
   ]
  },
  {
   "cell_type": "markdown",
   "metadata": {},
   "source": [
    "### Initial values of the properties\n",
    "\n",
    "The initial values of the properties will be defined in the Ellipse feature. We have that,\n",
    "\n",
    "* position is initialized as a random 2D position at a position between -256 and 512 for both x and y\n",
    "* intensity is constant 1\n",
    "* rotation is initialized as a random radian between 0 and 2pi\n",
    "* rotation diffusion is a random number between 2 and 4.\n",
    "* velocity is initialized as a normally distributed number with standard deviation 2e-6\n",
    "* area is a random number between 5e-13 and 1e-12 (units m^2)\n"
   ]
  },
  {
   "cell_type": "code",
   "execution_count": null,
   "metadata": {},
   "outputs": [],
   "source": [
    "bacteria = Ellipse(\n",
    "    position=lambda: (-256 + np.random.rand(3) * 768) * 1e-7 * [1, 1, 0],\n",
    "    intensity=1,\n",
    "    rotation=lambda: np.random.rand() * 2 * np.pi,\n",
    "    rotation_diffusion= lambda: np.random.rand() * 4 + 2,\n",
    "    velocity=lambda: np.random.randn() * 2e-6,\n",
    "    area=lambda:np.random.rand() * 5e-13 + 5e-13\n",
    ")"
   ]
  },
  {
   "cell_type": "markdown",
   "metadata": {},
   "source": [
    "### Making it sequential"
   ]
  },
  {
   "cell_type": "code",
   "execution_count": null,
   "metadata": {},
   "outputs": [],
   "source": [
    "sequential_bacteria = Sequential(bacteria,\n",
    "                                 velocity=get_velocity,\n",
    "                                 rotation=get_rotation,\n",
    "                                 position=get_position,\n",
    "                                 radius=get_radius)"
   ]
  },
  {
   "cell_type": "markdown",
   "metadata": {},
   "source": [
    "## 4. Defining the full feature series\n",
    "\n",
    "We define the optics. Of note is that we lower the z resolution slightly to make the resolve time faster."
   ]
  },
  {
   "cell_type": "code",
   "execution_count": null,
   "metadata": {},
   "outputs": [],
   "source": [
    "optics = Fluorescence(\n",
    "    magnification=10,\n",
    "    resolution=(1e-6, 1e-6, 2e-6),\n",
    "    wavelength=633e-9,\n",
    "    output_region=(0, 0, 256, 256),\n",
    ")"
   ]
  },
  {
   "cell_type": "markdown",
   "metadata": {},
   "source": [
    "### Bringing it together\n",
    "\n",
    "We define the full feature series as 100 bacteria imaged though the optical system, with a background offset and a Poisson noise, over 200 frames."
   ]
  },
  {
   "cell_type": "code",
   "execution_count": null,
   "metadata": {},
   "outputs": [],
   "source": [
    "imaged_bacteria = optics(sequential_bacteria**100) + Offset(offset=0.05) + Poisson(snr=60)\n",
    "sequence_of_bacteria = Sequence(imaged_bacteria, sequence_length=200)  "
   ]
  },
  {
   "cell_type": "code",
   "execution_count": null,
   "metadata": {},
   "outputs": [],
   "source": [
    "video_of_bacteria = sequence_of_bacteria.resolve()\n",
    "\n",
    "play(video_of_bacteria)"
   ]
  }
 ],
 "metadata": {
  "kernelspec": {
   "display_name": "Python 3",
   "language": "python",
   "name": "python3"
  },
  "language_info": {
   "codemirror_mode": {
    "name": "ipython",
    "version": 3
   },
   "file_extension": ".py",
   "mimetype": "text/x-python",
   "name": "python",
   "nbconvert_exporter": "python",
   "pygments_lexer": "ipython3",
   "version": "3.6.7"
  }
 },
 "nbformat": 4,
 "nbformat_minor": 2
}
