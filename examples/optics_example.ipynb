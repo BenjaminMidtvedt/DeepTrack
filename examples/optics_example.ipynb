{
 "cells": [
  {
   "cell_type": "code",
   "execution_count": 1,
   "metadata": {},
   "outputs": [],
   "source": [
    "%matplotlib inline\n",
    "import sys\n",
    "sys.path.append(\"..\") # Adds the module to path"
   ]
  },
  {
   "cell_type": "markdown",
   "metadata": {},
   "source": [
    "# deeptrack.optics\n",
    "\n",
    "This example introduces the module deeptrack.optics"
   ]
  },
  {
   "cell_type": "markdown",
   "metadata": {},
   "source": [
    "## What is an optical device?\n",
    "\n",
    "Optical devices are implementations of the abstract class `Features` (see also [features_example](features_example.ipynb)) that image their input through some optical setup. They create a discretized 3-dimensional representation of the input and calculate the corresponding field intensity at the camera. \n",
    "\n",
    "The preferred syntax to call an optical device on a feature series `F` is `optics(F)`. Using this syntax, the properties of the optical device is accessible by `F`. However, the syntax `F + optics` is also possible, but in this case, the properties of the optical device are not accessible by `F`."
   ]
  },
  {
   "cell_type": "code",
   "execution_count": 2,
   "metadata": {},
   "outputs": [],
   "source": [
    "from deeptrack.scatterers import PointParticle\n",
    "import numpy as np\n",
    "import matplotlib.pyplot as plt"
   ]
  },
  {
   "cell_type": "markdown",
   "metadata": {},
   "source": [
    "## 1. Fluorescence \n",
    "\n",
    "The feature `Fluorescence` takes scatterers with the property `intensity`, which represents the intensity of the light emitted by each voxel. "
   ]
  },
  {
   "cell_type": "code",
   "execution_count": 3,
   "metadata": {},
   "outputs": [
    {
     "data": {
      "image/png": "[encoded data removed]",
      "text/plain": [
       "<Figure size 432x288 with 1 Axes>"
      ]
     },
     "metadata": {
      "needs_background": "light"
     },
     "output_type": "display_data"
    }
   ],
   "source": [
    "from deeptrack.optics import Fluorescence\n",
    "\n",
    "optics = Fluorescence(\n",
    "    NA=0.7,                       # Numerical aperture\n",
    "    wavelength=660e-9,            # Wavelength of the emitted light\n",
    "    resolution=1e-6,              # Pixel size of the camera. Also determines z-resolution\n",
    "    magnification=10,             # Magnification of the optical aperature\n",
    "    refractive_index_medium=1.33, # Refractive index of the medium\n",
    "    upscale=2,                    # Upscales the pupil function for accuracy\n",
    "    padding=(10, 10, 10, 10),     # Pads the imge with this number of pixels to avoid edge effects (left, right, up, down)\n",
    "    output_region=(0, 0, 64, 64), # Extracts a part of the output image (x, y, width, height)\n",
    "    aberration=None               # Adds some aberration to the optical system. See aberrations_example for details\n",
    ")\n",
    "\n",
    "scatterer = PointParticle(\n",
    "    intensity=100,         # Squared magnitude of the field. \n",
    "    position_unit=\"pixel\", # Units of position (default meter)\n",
    "    position=(32, 32),     # Position of the particle\n",
    ")\n",
    "\n",
    "imaged_scatterer = optics(scatterer)\n",
    "\n",
    "imaged_scatterer.plot(cmap=\"gray\")"
   ]
  },
  {
   "cell_type": "markdown",
   "metadata": {},
   "source": [
    "## 2. Brightfield\n",
    "\n",
    "The feature `Brightfield` coherently illuminates scatterers with the property `refractive_index`, which  represents the refractive_index of the scatterer."
   ]
  },
  {
   "cell_type": "code",
   "execution_count": 4,
   "metadata": {},
   "outputs": [
    {
     "data": {
      "image/png": "[encoded data removed]",
      "text/plain": [
       "<Figure size 432x288 with 1 Axes>"
      ]
     },
     "metadata": {
      "needs_background": "light"
     },
     "output_type": "display_data"
    }
   ],
   "source": [
    "from deeptrack.optics import Brightfield\n",
    "\n",
    "optics = Brightfield(\n",
    "    NA=0.7,                             # Numerical aperture\n",
    "    wavelength=660e-9,                  # Wavelength of illuminating light\n",
    "    resolution=1e-6,                    # Pixel size of the camera. Also determines z-resolution\n",
    "    magnification=10,                   # Magnification of the optical aperature\n",
    "    refractive_index_medium=1.33,       # Refractive index of the medium\n",
    "    upscale=2,                          # Upscales the pupil function for accuracy\n",
    "    output_region=(0, 0, 64, 64),       # Extracts a part of the output image (x, y, width, height)\n",
    "    padding=(10, 10, 10, 10),           # Pads the imge with this number of pixels to avoid edge effects (left, right, up, down)\n",
    "    aberration=None                     # Adds some aberration to the optical system. See aberrations_example for details\n",
    ")\n",
    "\n",
    "scatterer = PointParticle(\n",
    "    refractive_index=1.45 + 0.1j, # Refractive index the scatterer\n",
    "    position_unit=\"pixel\",        # Units of position (default meter)\n",
    "    position=(32, 32),            # Position of the particle\n",
    ")\n",
    "\n",
    "imaged_scatterer = optics(scatterer)\n",
    "\n",
    "imaged_scatterer.plot(cmap=\"gray\")"
   ]
  },
  {
   "cell_type": "markdown",
   "metadata": {},
   "source": [
    "The illuminating light can be further tuned by setting the property `illumination`. Here, for example, we add a background gradient using the feature `IlluminationGradient`."
   ]
  },
  {
   "cell_type": "code",
   "execution_count": 5,
   "metadata": {},
   "outputs": [
    {
     "data": {
      "image/png": "[encoded data removed]",
      "text/plain": [
       "<Figure size 432x288 with 1 Axes>"
      ]
     },
     "metadata": {
      "needs_background": "light"
     },
     "output_type": "display_data"
    }
   ],
   "source": [
    "from deeptrack.optics import Brightfield, IlluminationGradient\n",
    "\n",
    "illumination_gradient = IlluminationGradient(\n",
    "    gradient=(5e-5, 5e-5) # Adds a field with the corresponing gradient\n",
    ")\n",
    "\n",
    "optics = Brightfield(\n",
    "    NA=0.7,                             # Numerical aperture\n",
    "    wavelength=660e-9,                  # Wavelength of illuminating light\n",
    "    resolution=1e-6,                    # Pixel size of the camera. Also determines z-resolution\n",
    "    magnification=10,                   # Magnification of the optical aperature\n",
    "    refractive_index_medium=1.33,       # Refractive index of the medium\n",
    "    upscale=2,                          # Upscales the pupil function for accuracy\n",
    "    output_region=(0, 0, 64, 64),       # Extracts a part of the output image (x, y, width, height)\n",
    "    padding=(10, 10, 10, 10),           # Pads the imge with this number of pixels to avoid edge effects (left, right, up, down)\n",
    "    aberration=None,                    # Adds some aberration to the optical system. See aberrations_example for details.\n",
    "    illumination=illumination_gradient  # Sets the field illuminating the sample    \n",
    ")\n",
    "\n",
    "scatterer = PointParticle(\n",
    "    refractive_index=1.45 + 0.1j, # Refractive index the scatterer.\n",
    "    position_unit=\"pixel\",        # Units of position (default meter)\n",
    "    position=(32, 32),           # Position of the particle\n",
    ")\n",
    "\n",
    "imaged_scatterer = optics(scatterer)\n",
    "\n",
    "imaged_scatterer.plot(cmap=\"gray\")"
   ]
  },
  {
   "cell_type": "markdown",
   "metadata": {},
   "source": [
    "The grid-like pattern is a result of edge effects. To avoid this, either increase the padding or resolve a larger image."
   ]
  },
  {
   "cell_type": "code",
   "execution_count": 6,
   "metadata": {},
   "outputs": [
    {
     "data": {
      "image/png": "[encoded data removed]",
      "text/plain": [
       "<Figure size 432x288 with 1 Axes>"
      ]
     },
     "metadata": {
      "needs_background": "light"
     },
     "output_type": "display_data"
    }
   ],
   "source": [
    "optics.properties[\"padding\"].current_value = (256,) * 4\n",
    "\n",
    "imaged_scatterer.plot(cmap=\"gray\")"
   ]
  }
 ],
 "metadata": {
  "kernelspec": {
   "display_name": "Python 3",
   "language": "python",
   "name": "python3"
  },
  "language_info": {
   "codemirror_mode": {
    "name": "ipython",
    "version": 3
   },
   "file_extension": ".py",
   "mimetype": "text/x-python",
   "name": "python",
   "nbconvert_exporter": "python",
   "pygments_lexer": "ipython3",
   "version": "3.6.9"
  }
 },
 "nbformat": 4,
 "nbformat_minor": 2
}
