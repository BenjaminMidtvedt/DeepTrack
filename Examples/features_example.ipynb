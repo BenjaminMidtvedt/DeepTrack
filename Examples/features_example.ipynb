{
 "cells": [
  {
   "cell_type": "code",
   "execution_count": 1,
   "metadata": {},
   "outputs": [],
   "source": [
    "import sys\n",
    "sys.path.append(\"..\") # Adds the module to path"
   ]
  },
  {
   "cell_type": "markdown",
   "metadata": {},
   "source": [
    "# DeepTrack.features\n",
    "\n",
    "This notebook introduces the DeepTrack.features module.\n",
    "\n",
    "## What is a feature?\n",
    "\n",
    "Features are instances of the abstract class `Feature` and are responsible for modifying images. Each implementation of the class `Feature` needs to define a method `get(image, **kwargs)`, takes an image as an input and should return an updated image. This can be additive, such as adding a particle or gaussian noise, or non-additive, such as poisson noise or a low-pass filter. The image that is modified is in itself an instance of the class Image, which for now can be thought of as a normal numpy ndarray.\n",
    "\n",
    "It is very important to note that features do _not_ create images, they modify images. As such, they always need an image as an input. \n",
    "\n",
    "When a feature is created, keyword arguments can be passed to its constructor. These arguments are stored as [properties](properties_example.ipynb) of the feature, which determine how the feature is resolved. When a feature is updated using the method `update()`, all of the properties are updated as well. When a feature is resolved using the method `resolve(image)`, the current value of all properties is sent through the method `get(image, **kwargs)` as keyword arguments."
   ]
  },
  {
   "cell_type": "code",
   "execution_count": 2,
   "metadata": {},
   "outputs": [
    {
     "name": "stdout",
     "output_type": "stream",
     "text": [
      "value is 1\n",
      "value is bar\n",
      "value is None\n"
     ]
    }
   ],
   "source": [
    "import numpy as np\n",
    "\n",
    "from DeepTrack.features import Feature\n",
    "from DeepTrack.Image import Image\n",
    "\n",
    "\n",
    "class Foo(Feature):\n",
    "    def get(self, image, value=None):\n",
    "        print(\"value is\", value)\n",
    "        return image\n",
    "\n",
    "foo1 = Foo(value=1)\n",
    "foo2 = Foo(value=\"bar\")\n",
    "foo3 = Foo()\n",
    "\n",
    "res = foo1.resolve(Image([]))\n",
    "res = foo2.resolve(Image([]))\n",
    "res = foo3.resolve(Image([]))"
   ]
  },
  {
   "cell_type": "markdown",
   "metadata": {},
   "source": [
    "Note, since the values are stored as instances of Property, you can always replace values with standard structures such as list or lambda functions to create more complicated behaviors"
   ]
  },
  {
   "cell_type": "code",
   "execution_count": 3,
   "metadata": {},
   "outputs": [
    {
     "name": "stdout",
     "output_type": "stream",
     "text": [
      "value is 0.26922704480630055\n",
      "value is bar\n"
     ]
    }
   ],
   "source": [
    "F1 = Foo(value=lambda: np.random.rand() - 0.5)\n",
    "F2 = Foo(value=[\"bar\", \"baz\"])\n",
    "\n",
    "res = F1.resolve(Image([]))\n",
    "res = F2.resolve(Image([]))"
   ]
  },
  {
   "cell_type": "markdown",
   "metadata": {},
   "source": [
    "## Operations defind on features\n",
    "\n",
    "Features can be combined to create a feature series, which is a series of features that are evaluated sequentially. This is done using the add operator (+), the multiply operator (\\*), and the power operator (\\*\\*). \n",
    "\n",
    "### Adding features (+)\n",
    "The add operator (+) combines two features such that the output of the left side is set as the input to the feature to the right. For example, `foobar = foo + bar`, where foo and bar are features. Here, when an image is resolved from foobar, it first resolves an image from foo, then uses this image as the input to resolve an image from bar."
   ]
  },
  {
   "cell_type": "code",
   "execution_count": 4,
   "metadata": {},
   "outputs": [
    {
     "name": "stdout",
     "output_type": "stream",
     "text": [
      "value is left side\n",
      "value is right side\n"
     ]
    }
   ],
   "source": [
    "foobar = Foo(value=\"left side\") + Foo(value=\"right side\")\n",
    "\n",
    "R = foobar.resolve(Image([]))"
   ]
  },
  {
   "cell_type": "markdown",
   "metadata": {},
   "source": [
    "### Multiplying feature with number (\\*)\n",
    "\n",
    "The mul operator (\\*) takes a feature ´F´ and a number ´p´ and creates a new feature, that has a probability `1-p` to be skipped. "
   ]
  },
  {
   "cell_type": "code",
   "execution_count": 5,
   "metadata": {},
   "outputs": [
    {
     "name": "stdout",
     "output_type": "stream",
     "text": [
      "value is 4\n",
      "value is 6\n",
      "value is 8\n",
      "value is 9\n"
     ]
    }
   ],
   "source": [
    "foo = Foo(value=0)*0.5\n",
    "for i in range(1,10):\n",
    "    foo = foo + Foo(value=i)*0.5\n",
    "\n",
    "res = foo.resolve(Image([]))"
   ]
  },
  {
   "cell_type": "markdown",
   "metadata": {},
   "source": [
    "### Exponentiating feature with integer (\\*\\*)\n",
    "\n",
    "The pow operator (\\*\\*) takes a feature and an integer to create several deep copies of the feature. Then, `Foo() ** 5` will create 5 deep copies of the instance of Foo and add them to the feature series. Since this is done at resolve time, the right hand side can be any value that returns an integer when sampled. \n",
    "\n",
    "Note that that since the features are deep copied, properties that reference these features may produce unintended results. "
   ]
  },
  {
   "cell_type": "code",
   "execution_count": 6,
   "metadata": {},
   "outputs": [
    {
     "name": "stdout",
     "output_type": "stream",
     "text": [
      "value is quux\n",
      "value is qux\n",
      "value is bar\n",
      "value is quux\n",
      "value is qux\n",
      "\n",
      "Using list\n",
      "value is bar\n",
      "value is bar\n",
      "value is qux\n",
      "value is bar\n",
      "value is qux\n"
     ]
    }
   ],
   "source": [
    "foo = Foo(value = [\"bar\", \"baz\", \"qux\", \"quux\"]) \n",
    "res = (foo ** 5).resolve(Image([]))\n",
    "\n",
    "print(\"\\nUsing list\")\n",
    "res = (foo ** [3,4,5]).resolve(Image([]))"
   ]
  },
  {
   "cell_type": "markdown",
   "metadata": {},
   "source": [
    "## Example - Image with random circles"
   ]
  },
  {
   "cell_type": "code",
   "execution_count": 53,
   "metadata": {},
   "outputs": [
    {
     "data": {
      "image/png": "[encoded data removed]",
      "text/plain": [
       "<Figure size 432x288 with 1 Axes>"
      ]
     },
     "metadata": {
      "needs_background": "light"
     },
     "output_type": "display_data"
    }
   ],
   "source": [
    "from matplotlib import pyplot as plt\n",
    "\n",
    "class Circle(Feature):\n",
    "    def get(self, image, position=None, radius=None, intensity=None):\n",
    "        X, Y = np.meshgrid(np.arange(image.shape[0]), np.arange(image.shape[1]))\n",
    "        mask = (X - position[0]) ** 2 + (Y - position[1]) ** 2 < radius ** 2\n",
    "        image[mask] = intensity\n",
    "        return image\n",
    "\n",
    "circle = Circle(\n",
    "    position=lambda: np.random.rand(2) * 512,\n",
    "    radius=lambda: 20 + np.random.rand() * 20,\n",
    "    intensity=1\n",
    ")\n",
    "\n",
    "input_image = Image(np.zeros((512,512)))\n",
    "\n",
    "output_image = (circle ** 10).resolve(input_image) \n",
    "\n",
    "plt.imshow(output_image)\n",
    "plt.show()"
   ]
  },
  {
   "cell_type": "markdown",
   "metadata": {},
   "source": [
    "## Example - Image with stacked circles\n",
    "\n",
    "It's not unusual for a feature to depend on some other feature. Due to the way features are updated, we can only reliably depend on features that are resolved earlier in the sequence. Dependent features can typically not be wrapped by a \\*\\* operator, since the reference pointers will not be correctly copied. "
   ]
  },
  {
   "cell_type": "code",
   "execution_count": 70,
   "metadata": {},
   "outputs": [
    {
     "data": {
      "image/png": "[encoded data removed]",
      "text/plain": [
       "<Figure size 432x288 with 1 Axes>"
      ]
     },
     "metadata": {
      "needs_background": "light"
     },
     "output_type": "display_data"
    }
   ],
   "source": [
    "# Due to python scoping rules, we need to move this evaluation\n",
    "# to its own scope.\n",
    "def get_position(base):\n",
    "    def func():\n",
    "        return base.properties[\"position\"].current_value\n",
    "    return func\n",
    "\n",
    "def get_radius(base, mul_factor):\n",
    "    def func():\n",
    "        return base.properties[\"radius\"].current_value*mul_factor\n",
    "    return func\n",
    "\n",
    "# Since layer1 references the instance \"base\", we can't use the ** syntax\n",
    "# to duplicate the feature. Instead we use a for-loop.\n",
    "for i in range(10):\n",
    "    \n",
    "    base = Circle(\n",
    "        position=lambda: np.random.rand(2) * 512,\n",
    "        radius=lambda: 20 + np.random.rand() * 20,\n",
    "        intensity=1\n",
    "    )\n",
    "   \n",
    "    layer1 = Circle(\n",
    "        position=get_position(base),\n",
    "        radius=get_radius(base, 0.75),\n",
    "        intensity=2\n",
    "    )\n",
    "\n",
    "    layer2 = Circle(\n",
    "        position=get_position(base),\n",
    "        radius=get_radius(base,0.5),\n",
    "        intensity=3\n",
    "    )\n",
    "    \n",
    "    stack = base + layer1 + layer2\n",
    "    \n",
    "    if i == 0:\n",
    "        features = stack\n",
    "    else: \n",
    "        features = features + stack\n",
    "        \n",
    "input_image = Image(np.zeros((512,512)))\n",
    "output_image = features.resolve(input_image) \n",
    "\n",
    "plt.imshow(output_image)\n",
    "plt.show()"
   ]
  },
  {
   "cell_type": "markdown",
   "metadata": {},
   "source": [
    "## Example - Image with pow operator friendly stacked circles "
   ]
  },
  {
   "cell_type": "code",
   "execution_count": 109,
   "metadata": {},
   "outputs": [
    {
     "data": {
      "image/png": "[encoded data removed]",
      "text/plain": [
       "<Figure size 432x288 with 1 Axes>"
      ]
     },
     "metadata": {
      "needs_background": "light"
     },
     "output_type": "display_data"
    }
   ],
   "source": [
    "class StackedCircles(Feature):\n",
    "    def get(self, image, position=None, radius=None, feature_list=None):\n",
    "        \n",
    "        for feature in feature_list:\n",
    "            feature.properties[\"position\"].current_value = position\n",
    "            feature.properties[\"radius\"].current_value = radius\n",
    "            \n",
    "            radius *= 0.8\n",
    "            image = feature.resolve(image)\n",
    "        return image\n",
    "            \n",
    "base = Circle(\n",
    "    position=None,\n",
    "    radius=None,\n",
    "    intensity=1\n",
    ")\n",
    "\n",
    "layer1 = Circle(\n",
    "    position=None,\n",
    "    radius=None,\n",
    "    intensity=2\n",
    ")\n",
    "\n",
    "layer2 = Circle(\n",
    "    position=None,\n",
    "    radius=None,\n",
    "    intensity=3\n",
    ")\n",
    "\n",
    "stack = StackedCircles(\n",
    "    position=lambda: np.random.rand(2)*512,\n",
    "    radius=lambda: 20 + 20*np.random.rand(),\n",
    "    feature_list=lambda: [base, layer1, layer2]\n",
    ")\n",
    "\n",
    "input_image = Image(np.zeros((512,512)))\n",
    "output_image = (stack ** 10).resolve(input_image) \n",
    "\n",
    "plt.imshow(output_image)\n",
    "plt.show()"
   ]
  },
  {
   "cell_type": "markdown",
   "metadata": {},
   "source": [
    "## Example - Image with random non-overlapping circles"
   ]
  },
  {
   "cell_type": "code",
   "execution_count": 107,
   "metadata": {},
   "outputs": [
    {
     "data": {
      "image/png": "[encoded data removed]",
      "text/plain": [
       "<Figure size 432x288 with 1 Axes>"
      ]
     },
     "metadata": {
      "needs_background": "light"
     },
     "output_type": "display_data"
    }
   ],
   "source": [
    "from matplotlib import pyplot as plt\n",
    "\n",
    "RADIUS = 20 # Fixed radius since accessing properties of self is more difficult.\n",
    "\n",
    "def NonOverlappingPosition(previous, position_function, radius):\n",
    "    def func():\n",
    "        prev_positions = [circle.properties[\"position\"].current_value for circle in previous]\n",
    "        prev_radius = [circle.properties[\"radius\"].current_value for circle in previous]\n",
    "\n",
    "        overlapping = True\n",
    "        while overlapping:\n",
    "            position = position_function()\n",
    "            overlapping = any([np.sum((position - prev_position) ** 2) < radius ** 2 * 2 for prev_position in prev_positions])\n",
    "        return position\n",
    "    return func\n",
    "            \n",
    "    \n",
    "circles = []\n",
    "for i in range(10):\n",
    "    circle = Circle(\n",
    "        position=NonOverlappingPosition(circles[:], lambda: np.random.rand(2)*512, RADIUS),\n",
    "        radius= RADIUS\n",
    "    )\n",
    "    circles.append(circle)\n",
    "    if i == 0:\n",
    "        circle_features = circle\n",
    "    else:\n",
    "        circle_features = circle_features + circle\n",
    "\n",
    "\n",
    "input_image = Image(np.zeros((512,512)))\n",
    "output_image = circle_features.resolve(input_image) \n",
    "\n",
    "plt.imshow(output_image)\n",
    "plt.show()"
   ]
  }
 ],
 "metadata": {
  "kernelspec": {
   "display_name": "Python 3",
   "language": "python",
   "name": "python3"
  },
  "language_info": {
   "codemirror_mode": {
    "name": "ipython",
    "version": 3
   },
   "file_extension": ".py",
   "mimetype": "text/x-python",
   "name": "python",
   "nbconvert_exporter": "python",
   "pygments_lexer": "ipython3",
   "version": "3.6.7"
  }
 },
 "nbformat": 4,
 "nbformat_minor": 2
}
