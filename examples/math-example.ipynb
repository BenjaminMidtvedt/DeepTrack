{
 "cells": [
  {
   "cell_type": "code",
   "execution_count": null,
   "metadata": {},
   "outputs": [],
   "source": [
    "%matplotlib inline\n",
    "import sys\n",
    "sys.path.append(\"..\") # Adds the module to path"
   ]
  },
  {
   "cell_type": "markdown",
   "metadata": {},
   "source": [
    "# deeptrack.math\n",
    "\n",
    "This example introduces the module deeptrack.math."
   ]
  },
  {
   "cell_type": "markdown",
   "metadata": {},
   "source": [
    "## 1.1 What is included in math?\n",
    "\n",
    "The module math.py includes features that perform some mathematical operation on the input image. This can be used to normalize images, or merge several features."
   ]
  },
  {
   "cell_type": "markdown",
   "metadata": {},
   "source": [
    "## 1.2 Setup"
   ]
  },
  {
   "cell_type": "code",
   "execution_count": null,
   "metadata": {},
   "outputs": [],
   "source": [
    "import deeptrack.math as math\n",
    "import numpy as np"
   ]
  },
  {
   "cell_type": "markdown",
   "metadata": {},
   "source": [
    "## 2.1 Clip\n",
    "\n",
    "Clip the input within a minimum and a maximum value."
   ]
  },
  {
   "cell_type": "code",
   "execution_count": null,
   "metadata": {},
   "outputs": [],
   "source": [
    "input_image = np.array([[10, 4],[4, -10]])\n",
    "\n",
    "feature = math.Clip(min=-5, max=5)\n",
    "\n",
    "print(input_image)\n",
    "print(\"becomes\")\n",
    "print(feature.resolve(input_image))"
   ]
  },
  {
   "cell_type": "markdown",
   "metadata": {},
   "source": [
    "## 2.2 NormalizeMinMax\n",
    "\n",
    "Transforms the input to be between a minimum and a maximum value using a linear transformation."
   ]
  },
  {
   "cell_type": "code",
   "execution_count": null,
   "metadata": {},
   "outputs": [],
   "source": [
    "input_image = np.array([[10, 4],[4, -10]])\n",
    "\n",
    "feature = math.NormalizeMinMax(min=-5, max=5)\n",
    "\n",
    "print(input_image)\n",
    "print(\"becomes\")\n",
    "print(feature.resolve(input_image))"
   ]
  }
 ],
 "metadata": {
  "kernelspec": {
   "display_name": "Python 3",
   "language": "python",
   "name": "python3"
  },
  "language_info": {
   "codemirror_mode": {
    "name": "ipython",
    "version": 3
   },
   "file_extension": ".py",
   "mimetype": "text/x-python",
   "name": "python",
   "nbconvert_exporter": "python",
   "pygments_lexer": "ipython3",
   "version": "3.6.7"
  }
 },
 "nbformat": 4,
 "nbformat_minor": 2
}
