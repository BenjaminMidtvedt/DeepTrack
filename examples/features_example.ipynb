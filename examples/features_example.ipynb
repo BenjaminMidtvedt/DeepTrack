{
 "cells": [
  {
   "cell_type": "code",
   "execution_count": 1,
   "metadata": {},
   "outputs": [],
   "source": [
    "%matplotlib inline\n",
    "import sys\n",
    "sys.path.append(\"..\") # Adds the module to path"
   ]
  },
  {
   "cell_type": "markdown",
   "metadata": {},
   "source": [
    "# deeptrack.features\n",
    "\n",
    "This example introduces the module deeptrack.features."
   ]
  },
  {
   "cell_type": "markdown",
   "metadata": {},
   "source": [
    "## 1. What is a feature?\n",
    "\n",
    "Features are instances of the abstract class `Feature` and are responsible for creating and altering images. For example, a feature might add the image of a particle or add some salt-and-pepper noise.\n",
    "\n",
    "All features operate on lists of images. Most features, such as noise, apply some tranformation to all images in the list. This transformation can be additive, such as adding some Gaussian noise or a background illumination, or non-additive, such as introducing Poisson noise or performing a low-pass filter. This transformation is defined by the method `get(image, **kwargs)`, which all implementations of the class `Feature` need to define.\n",
    "\n",
    "Some features, for example scattterers, instead, append a new image to the list. This behavior is controlled by the class attributes `__distributed__` and `__list_merge_strategy__`:\n",
    "* `__distributed__` controls whether `.get(image, **kwargs)` is called on each element in the list separately (`__distributed__ = True`), or it is called on the list as a whole (`__distributed__ = False`).  \n",
    "* `__list_merge_strategy__` controls how the output of `.get(image, **kwargs)` is merged with the input list. It can be `MERGE_STRATEGY_OVERRIDE` (0, default), where the new list is output without merging with the input, or `MERGE_STRATEGY_APPEND` (1), where the new list is appended to the end of the input list.\n",
    "\n",
    "When a feature is created, keyword arguments can be passed to its constructor. These arguments are stored as properties (as a `PropertyDict`) of the feature (see also [properties_example](properties_example.ipynb)), which determine how the feature is resolved. When a feature is updated using the method `.update()`, all properties are updated by calling their respective methods `.update()`. When a feature is resolved using the method `resolve(image)`, the current values of all properties are sent through the method `get(image, **kwargs)` as keyword arguments."
   ]
  },
  {
   "cell_type": "code",
   "execution_count": 2,
   "metadata": {},
   "outputs": [
    {
     "name": "stdout",
     "output_type": "stream",
     "text": [
      "The current value of my_property is 1\n",
      "The current value of my_property is bar\n",
      "The current value of my_property is None\n"
     ]
    }
   ],
   "source": [
    "import numpy as np\n",
    "from deeptrack.features import Feature\n",
    "\n",
    "# Implementation of abstract class Feature \n",
    "# which does not alter the input image \n",
    "# and prints the current value of my_property\n",
    "class Foo(Feature):\n",
    "\n",
    "    # Controls what is passed to the method get(): \n",
    "    # False: everything is passed without modification.\n",
    "    # True: elements along the first axis are passed separately.\n",
    "    __distributed__ = False\n",
    "\n",
    "    def get(self, image, my_property=None, **kwargs):\n",
    "        print(\"The current value of my_property is\", my_property)\n",
    "        return image\n",
    "\n",
    "\n",
    "\n",
    "foo1 = Foo(my_property=1)\n",
    "output_image = foo1.resolve()\n",
    "\n",
    "foo2 = Foo(my_property=\"bar\")\n",
    "output_image = foo2.resolve()\n",
    "\n",
    "foo3 = Foo()\n",
    "output_image = foo3.resolve()"
   ]
  },
  {
   "cell_type": "markdown",
   "metadata": {},
   "source": [
    "Since the values are stored as instances of the class `Property`, we can always replace values with standard structures (e.g., lists or lambda functions) to create more complex behaviors (see also [properties_example](properties_example.ipynb))."
   ]
  },
  {
   "cell_type": "code",
   "execution_count": 3,
   "metadata": {},
   "outputs": [
    {
     "name": "stdout",
     "output_type": "stream",
     "text": [
      "The current value of my_property is -0.2451050290656599\n",
      "The current value of my_property is baz\n"
     ]
    }
   ],
   "source": [
    "foo4 = Foo(my_property=lambda: np.random.rand() - 0.5)\n",
    "output_image = foo4.resolve()\n",
    "\n",
    "foo5 = Foo(my_property=lambda: np.random.choice([\"bar\", \"baz\"])) # picks one random element from the list\n",
    "output_image = foo5.resolve()"
   ]
  },
  {
   "cell_type": "markdown",
   "metadata": {},
   "source": [
    "## 2. Operations defined on features\n",
    "\n",
    "Features can be combined to create a feature series, which is a series of features that are evaluated sequentially. This is done using the add operator (+), the multiply operator (\\*), and the power operator (\\*\\*)."
   ]
  },
  {
   "cell_type": "markdown",
   "metadata": {},
   "source": [
    "### Adding features (+)\n",
    "\n",
    "The add operator (+) combines two features such that they are evaluated sequentially. For example, given the features `foo` and `bar`, we can combine them as `foobar = foo + bar`. When `foobar` resolves an image, it first resolves an image from `foo`, then uses this image as the input to resolve an image from `bar`.\n",
    "\n",
    "This operation returns an instance of the feature `Branch`, which contains the two features."
   ]
  },
  {
   "cell_type": "code",
   "execution_count": 4,
   "metadata": {},
   "outputs": [
    {
     "name": "stdout",
     "output_type": "stream",
     "text": [
      "The current value of my_property is foo\n",
      "The current value of my_property is bar\n"
     ]
    }
   ],
   "source": [
    "foobar = Foo(my_property=\"foo\") + Foo(my_property=\"bar\")\n",
    "\n",
    "output_image = foobar.resolve()"
   ]
  },
  {
   "cell_type": "markdown",
   "metadata": {},
   "source": [
    "### Multiplying a feature by a number (\\*)\n",
    "\n",
    "Multiplying a feature `foo` by a number `p` creates a new feature that has a probability `p` of resolving the feature `foo`, and a probability `1-p` to return the input image without modifying it.\n",
    "\n",
    "This operation returns an instance of the feature `Probability`, which contains the feature and the probability to resolve the feature."
   ]
  },
  {
   "cell_type": "code",
   "execution_count": 5,
   "metadata": {},
   "outputs": [
    {
     "name": "stdout",
     "output_type": "stream",
     "text": [
      "The current value of my_property is 0\n"
     ]
    }
   ],
   "source": [
    "foo = Foo(my_property=0) * 0.5\n",
    "\n",
    "output_image = foo.resolve() # if the feature is not resolved, nothing is printed"
   ]
  },
  {
   "cell_type": "markdown",
   "metadata": {},
   "source": [
    "And now a more complex example combining addition and multiplication."
   ]
  },
  {
   "cell_type": "code",
   "execution_count": 6,
   "metadata": {},
   "outputs": [
    {
     "name": "stdout",
     "output_type": "stream",
     "text": [
      "The current value of my_property is 0\n",
      "The current value of my_property is 1\n",
      "The current value of my_property is 3\n",
      "The current value of my_property is 9\n"
     ]
    }
   ],
   "source": [
    "foo = Foo(my_property=0) * 0.5\n",
    "for i in range(1, 10):\n",
    "    foo = foo + Foo(my_property=i) * 0.5\n",
    "# foo is now 10 instances of Foo, each with a 50% chance of being resolved\n",
    "    \n",
    "output_image = foo.resolve()"
   ]
  },
  {
   "cell_type": "markdown",
   "metadata": {},
   "source": [
    "### Exponentiating feature to integer (\\*\\*)\n",
    "\n",
    "The power operator (\\*\\*) takes a feature `foo` and an integer `i` and creates `i` deep copies of the feature, which are added to the feature series at resolve time. For example, `foo**5` will create 5 deep copies of the instance of Foo and add them to the feature series. Since this is done at resolve time, the exponent can be any expression that returns an integer when evaluated.\n",
    "\n",
    "This operation returns an instance of the feature `Duplicate`, which contains the original feature and the number of times it should be duplicated."
   ]
  },
  {
   "cell_type": "code",
   "execution_count": 7,
   "metadata": {},
   "outputs": [
    {
     "name": "stdout",
     "output_type": "stream",
     "text": [
      "The current value of my_property is quux\n",
      "The current value of my_property is baz\n",
      "The current value of my_property is baz\n",
      "The current value of my_property is quux\n",
      "The current value of my_property is qux\n"
     ]
    }
   ],
   "source": [
    "foo = Foo(my_property=lambda: np.random.choice([\"bar\", \"baz\", \"qux\", \"quux\"])) \n",
    "\n",
    "output_image = (foo**5).resolve()"
   ]
  },
  {
   "cell_type": "code",
   "execution_count": 8,
   "metadata": {},
   "outputs": [
    {
     "name": "stdout",
     "output_type": "stream",
     "text": [
      "The current value of my_property is qux\n",
      "The current value of my_property is quux\n",
      "The current value of my_property is quux\n",
      "The current value of my_property is baz\n"
     ]
    }
   ],
   "source": [
    "number_of_foo = np.random.randint(0, 10)\n",
    "output_image = (foo**number_of_foo).resolve() # picks one random exponent from the list"
   ]
  },
  {
   "cell_type": "markdown",
   "metadata": {},
   "source": [
    "## 3. Example - Image with random circles"
   ]
  },
  {
   "cell_type": "markdown",
   "metadata": {},
   "source": [
    "Simple example that generates an image with some random circles."
   ]
  },
  {
   "cell_type": "code",
   "execution_count": 9,
   "metadata": {},
   "outputs": [
    {
     "data": {
      "image/png": "[encoded data removed]",
      "text/plain": [
       "<Figure size 432x288 with 1 Axes>"
      ]
     },
     "metadata": {
      "needs_background": "light"
     },
     "output_type": "display_data"
    }
   ],
   "source": [
    "from matplotlib import pyplot as plt\n",
    "# Implementation of the abstract class Feature that draws a circle on an image.\n",
    "class Circle(Feature):\n",
    "\n",
    "    def get(self, image, position, radius, intensity, **kwargs):\n",
    "        X, Y = np.meshgrid(np.arange(image.shape[0]), np.arange(image.shape[1]))\n",
    "        mask = (X - position[0])**2 + (Y - position[1])**2 < radius**2\n",
    "        image[mask] = intensity\n",
    "        return image\n",
    "\n",
    "circle = Circle(\n",
    "    position=lambda: np.random.rand(2) * 512,\n",
    "    radius=lambda: 20 + np.random.rand() * 20,\n",
    "    intensity=1\n",
    ")\n",
    "\n",
    "input_image = np.zeros((512, 512))\n",
    "\n",
    "output_image = (circle**10).resolve(input_image) \n",
    "\n",
    "from matplotlib import pyplot as plt\n",
    "plt.imshow(output_image, cmap='gray')\n",
    "plt.show()"
   ]
  },
  {
   "cell_type": "markdown",
   "metadata": {},
   "source": [
    "## 4. Example - Image with stacked circles\n",
    "\n",
    "And now a more complex example. In this case, we have a feature that depends on another feature. In such cases, due to the way features are updated, we can only reliably depend on features that are resolved earlier in the sequence. \n",
    "\n",
    "For example, this issue emerges when using the feature `Duplicate` (i.e., the \\*\\* operator) to create deep copies of an original feature. For example, consider `C = (A + B)**3`. This operation will produce three copies of A (A1, A2, A3), and three copies of B (B1, B2, B3). If B depends on A, then (B1, B2, B3) will also depend on A, not on (A1, A2, A3) as one might expect. \n",
    "\n",
    "We can work around this problem using a for-loop instead of the  \\*\\* operator."
   ]
  },
  {
   "cell_type": "code",
   "execution_count": 10,
   "metadata": {},
   "outputs": [
    {
     "data": {
      "image/png": "[encoded data removed]",
      "text/plain": [
       "<Figure size 432x288 with 1 Axes>"
      ]
     },
     "metadata": {
      "needs_background": "light"
     },
     "output_type": "display_data"
    }
   ],
   "source": [
    "\n",
    "\n",
    "# We introduce wrapped functions to be used instead of lambda functions.\n",
    "def get_position(base):\n",
    "    def func():\n",
    "        return base.properties[\"position\"].current_value\n",
    "    return func\n",
    "\n",
    "def get_radius(base, multiplication_factor):\n",
    "    def func():\n",
    "        return base.properties[\"radius\"].current_value * multiplication_factor\n",
    "    return func\n",
    "\n",
    "# Since 'circle2' and `circle3` reference 'circle1', \n",
    "# we can't use the ** syntax to duplicate the feature. \n",
    "# Instead, we use a for-loop.\n",
    "for i in range(10):\n",
    "    \n",
    "    circle1 = Circle(\n",
    "        position=lambda: np.random.rand(2) * 512,\n",
    "        radius=lambda: 20 + np.random.rand() * 20,\n",
    "        intensity=1\n",
    "    )\n",
    "   \n",
    "    circle2 = Circle(\n",
    "        position=get_position(circle1),\n",
    "        radius=get_radius(circle1, 0.67),\n",
    "        intensity=2\n",
    "    )\n",
    "\n",
    "    circle3 = Circle(\n",
    "        position=get_position(circle1),\n",
    "        radius=get_radius(circle1, 0.33),\n",
    "        intensity=3\n",
    "    )\n",
    "    \n",
    "    stacked_circles = circle1 + circle2 + circle3\n",
    "    \n",
    "    if i == 0:\n",
    "        features = stacked_circles\n",
    "    else: \n",
    "        features = features + stacked_circles\n",
    "        \n",
    "input_image = np.zeros((512, 512))\n",
    "output_image = features.resolve(input_image) \n",
    "\n",
    "plt.imshow(output_image, cmap='gray')\n",
    "plt.show()"
   ]
  },
  {
   "cell_type": "markdown",
   "metadata": {},
   "source": [
    "## 5. Example - Image with power-operator-friendly stacked circles "
   ]
  },
  {
   "cell_type": "code",
   "execution_count": 11,
   "metadata": {},
   "outputs": [
    {
     "data": {
      "image/png": "[encoded data removed]",
      "text/plain": [
       "<Figure size 432x288 with 1 Axes>"
      ]
     },
     "metadata": {
      "needs_background": "light"
     },
     "output_type": "display_data"
    }
   ],
   "source": [
    "\n",
    "from deeptrack.properties import Property\n",
    "\n",
    "position_property = Property(lambda: np.random.rand(2)*512)\n",
    "radius_property = Property(lambda: 20 + np.random.rand()*20)\n",
    "    \n",
    "circle1 = Circle(\n",
    "    position=position_property,\n",
    "    radius=radius_property,\n",
    "    intensity=1\n",
    ")\n",
    "\n",
    "circle2 = Circle(\n",
    "    position=position_property,\n",
    "    base_radius=radius_property,\n",
    "    radius=lambda base_radius: base_radius * 2 / 3,\n",
    "    intensity=2\n",
    ")\n",
    "\n",
    "circle3 = Circle(\n",
    "    position=position_property,\n",
    "    base_radius = radius_property,\n",
    "    radius=lambda base_radius: base_radius * 1 / 3,\n",
    "    intensity=3\n",
    ")\n",
    "\n",
    "stacked_circles = circle1 + circle2 + circle3\n",
    "\n",
    "input_image = np.zeros((512, 512))\n",
    "output_image = (stacked_circles**10).resolve(input_image) \n",
    "\n",
    "plt.imshow(output_image, cmap='gray')\n",
    "plt.show()"
   ]
  },
  {
   "cell_type": "markdown",
   "metadata": {},
   "source": [
    "## 6. Example - Image with random non-overlapping circles"
   ]
  },
  {
   "cell_type": "code",
   "execution_count": 12,
   "metadata": {},
   "outputs": [
    {
     "data": {
      "image/png": "[encoded data removed]",
      "text/plain": [
       "<Figure size 432x288 with 1 Axes>"
      ]
     },
     "metadata": {
      "needs_background": "light"
     },
     "output_type": "display_data"
    }
   ],
   "source": [
    "# Function that returns a position that is atleast 2 * radius away from every other\n",
    "# circle in the parameter `previous`.\n",
    "def NonOverlappingPosition(previous_circles, position_function, radius):\n",
    "\n",
    "    def func():\n",
    "\n",
    "        previous_positions = [circle.properties[\"position\"].current_value for circle in previous_circles]\n",
    "\n",
    "        overlapping = True\n",
    "        while overlapping:\n",
    "            position = position_function()\n",
    "            overlapping = any(\n",
    "                [\n",
    "                np.sum((position - previous_position)**2) < radius**2 * 2 \n",
    "                for previous_position in previous_positions\n",
    "                ]\n",
    "            )\n",
    "\n",
    "        return position\n",
    "\n",
    "    return func\n",
    "            \n",
    "RADIUS = 20\n",
    "\n",
    "circles = []\n",
    "for i in range(10):\n",
    "    # Create the circle instance\n",
    "    circle = Circle(\n",
    "        position=NonOverlappingPosition(circles[:], lambda: np.random.rand(2) * 512, RADIUS),\n",
    "        radius=RADIUS,\n",
    "        intensity=1\n",
    "    )\n",
    "    circles.append(circle)\n",
    "    \n",
    "    if i == 0:\n",
    "        circle_features = circle\n",
    "    else:\n",
    "        circle_features = circle_features + circle\n",
    "\n",
    "\n",
    "input_image = np.zeros((512, 512))\n",
    "output_image = circle_features.resolve(input_image) \n",
    "\n",
    "plt.imshow(output_image, cmap='gray')\n",
    "plt.show()"
   ]
  }
 ],
 "metadata": {
  "kernelspec": {
   "display_name": "Python 3",
   "language": "python",
   "name": "python3"
  },
  "language_info": {
   "codemirror_mode": {
    "name": "ipython",
    "version": 3
   },
   "file_extension": ".py",
   "mimetype": "text/x-python",
   "name": "python",
   "nbconvert_exporter": "python",
   "pygments_lexer": "ipython3",
   "version": "3.6.7"
  }
 },
 "nbformat": 4,
 "nbformat_minor": 2
}
