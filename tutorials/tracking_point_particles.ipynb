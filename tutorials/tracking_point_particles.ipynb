{
 "cells": [
  {
   "cell_type": "code",
   "execution_count": null,
   "metadata": {},
   "outputs": [],
   "source": [
    "import sys\n",
    "sys.path.append(\"..\")"
   ]
  },
  {
   "cell_type": "markdown",
   "metadata": {},
   "source": [
    "# deeptrack - Tracking point particles\n",
    "\n",
    "This notebook demonstrates how to track point particles with a convolutional neural network using DeepTrack.\n",
    "\n",
    "Specifically, this tutotial explains how to: \n",
    "* Define the procedure to generate trainign images\n",
    "* Extract information from an image to use as labels\n",
    "* Define and train a model\n",
    "* Visually evaluate the result"
   ]
  },
  {
   "cell_type": "markdown",
   "metadata": {},
   "source": [
    "## 1. Setup\n",
    "\n",
    "Imports needed for this tutorial."
   ]
  },
  {
   "cell_type": "code",
   "execution_count": null,
   "metadata": {},
   "outputs": [],
   "source": [
    "from deeptrack.scatterers import PointParticle\n",
    "from deeptrack.optics import OpticalDevice\n",
    "from deeptrack.generators import Generator\n",
    "from deeptrack.models import convolutional\n",
    "\n",
    "import numpy as np\n",
    "import matplotlib.pyplot as plt"
   ]
  },
  {
   "cell_type": "markdown",
   "metadata": {},
   "source": [
    "## 2. Define the particle\n",
    "\n",
    "For this example, we consider a point particle (i.e. a point light source). A point particle is entirely defined by its intensity and its position. A point particle is an instance of the class PointParticle.\n",
    "\n",
    "A point particle is controlled by the following parameters:\n",
    "\n",
    "* intensity: The intensity of the point particle\n",
    "\n",
    "* position: The position of the point particle\n",
    "\n",
    "* position_unit: \"pixel\" or \"meter\""
   ]
  },
  {
   "cell_type": "code",
   "execution_count": null,
   "metadata": {},
   "outputs": [],
   "source": [
    "particle = PointParticle(                                         \n",
    "    intensity=100,\n",
    "    position=(32, 16),\n",
    "    position_unit=\"pixel\"\n",
    ")"
   ]
  },
  {
   "cell_type": "markdown",
   "metadata": {},
   "source": [
    "## 3. Define the optics \n",
    "\n",
    "Next, we need to define the properties of the optical system. This is done using an instance of the class Optics, which takes a set of light sources (particles) and convolves them with the pupil function (point spread function) of the otical system.\n",
    "\n",
    "The optics is controlled by the following parameters:\n",
    "\n",
    "* NA: The numerical aperature\n",
    "\n",
    "* pixel_size: The pixel to meter conversion factor (m/px)\n",
    "\n",
    "* wavelength: The wavelength of the lightsource (m)\n",
    "\n",
    "* mode: \"coherent\" or \"incoherent\" light emitted by the object\n",
    "\n",
    "* ROI: Region of interest that is imaged (to avoid wrap-around effects when Fourier-tranforming)\n",
    "\n",
    "* upscale: upscale factor for the pupil function (increases accuracy and computational cost)."
   ]
  },
  {
   "cell_type": "code",
   "execution_count": null,
   "metadata": {},
   "outputs": [],
   "source": [
    "optics = OpticalDevice(\n",
    "    NA=0.7,                \n",
    "    pixel_size=0.1e-6,     \n",
    "    wavelength=680e-9\n",
    ")"
   ]
  },
  {
   "cell_type": "markdown",
   "metadata": {},
   "source": [
    "## 4. Generate and plot the image\n",
    "\n",
    "Finally, we have everything needed to create an image! \n",
    "\n",
    "To generate an image, we call the optical device (here, `optics`) with the object we want to image (here, `particle`). This returns a new object (here, `image_of_particle`) corresponding to the image.\n",
    "\n",
    "To visualize the resulting image will see, we can call the method `.plot()`. This will resolve the image and plot it using matplotlib."
   ]
  },
  {
   "cell_type": "code",
   "execution_count": null,
   "metadata": {},
   "outputs": [],
   "source": [
    "image_of_particle = optics(particle)\n",
    "\n",
    "image_of_particle.plot(shape=(64, 64), cmap='gray')"
   ]
  },
  {
   "cell_type": "markdown",
   "metadata": {},
   "source": [
    "## 5. Randomize the particle position\n",
    "\n",
    "We can generate particles with random positions by passing a lambda function to the keyword argument `position`, which returns a pair of random numbers representing the particle position. \n",
    "\n",
    "In the example below, we also retrieve and plot the position of the particle."
   ]
  },
  {
   "cell_type": "code",
   "execution_count": null,
   "metadata": {},
   "outputs": [],
   "source": [
    "particle = PointParticle(                                         \n",
    "    intensity=100,\n",
    "    position=lambda: 10 + np.random.rand(2) * 44,\n",
    "    position_unit=\"pixel\"\n",
    ")\n",
    "\n",
    "input_image = np.zeros((64, 64))\n",
    "image_of_particle = optics(particle)\n",
    "output_image = image_of_particle.resolve(input_image)\n",
    "\n",
    "position_of_particle = np.array(particle.properties[\"position\"].current_value)\n",
    "\n",
    "plt.imshow(output_image, cmap='gray')\n",
    "plt.scatter(position_of_particle[0], position_of_particle[1])\n",
    "plt.show()"
   ]
  },
  {
   "cell_type": "markdown",
   "metadata": {},
   "source": [
    "## 6. Define the neural network model\n",
    "\n",
    "We will use a predefined neural network model to track the particle obtained calling the function `convolutional`. This model is a convolutional neural network with a dense top. It receives an input of shape (64, 64, 1) and outputs two values (x and y position of the particle)."
   ]
  },
  {
   "cell_type": "code",
   "execution_count": null,
   "metadata": {},
   "outputs": [],
   "source": [
    "model = convolutional(\n",
    "    input_shape=(64, 64, 1), \n",
    "    number_of_outputs=2\n",
    ")"
   ]
  },
  {
   "cell_type": "markdown",
   "metadata": {},
   "source": [
    "## 7. Define image generator\n",
    "\n",
    "Generators are objects that feed models with images and their corresponging labels during training. They are created by calling `.generate()` on an instance of the class Generator. This method takes the following inputs:\n",
    "* feature: A feature that resolves images used to train a model\n",
    "* label_function: A function that takes an image as input and returns the label for that image\n",
    "* shape: The shape of the output image\n",
    "* batch_size: The number of images per batch"
   ]
  },
  {
   "cell_type": "code",
   "execution_count": null,
   "metadata": {},
   "outputs": [],
   "source": [
    "# Function that retireves the position of a particle \n",
    "# and divides it by 64 to get values between 0 and 1\n",
    "def get_position_of_particle(image):\n",
    "    return np.array(particle.properties[\"position\"].current_value / 64)\n",
    "\n",
    "generator = Generator().generate(\n",
    "    image_of_particle, \n",
    "    get_position_of_particle, \n",
    "    shape=(64, 64), \n",
    "    batch_size=4\n",
    ")"
   ]
  },
  {
   "cell_type": "markdown",
   "metadata": {},
   "source": [
    "## 8. Train the model\n",
    "\n",
    "The model is trained by calling `.fit()` with the generator we defined in the previous step."
   ]
  },
  {
   "cell_type": "code",
   "execution_count": null,
   "metadata": {},
   "outputs": [],
   "source": [
    "model.fit(\n",
    "    generator,\n",
    "    epochs=1000,\n",
    "    steps_per_epoch=64\n",
    ")"
   ]
  },
  {
   "cell_type": "markdown",
   "metadata": {},
   "source": [
    "## 9. Visualize the model performance\n",
    "\n",
    "We can now use the trained model to measure the particle position in images previously unseen by the model."
   ]
  },
  {
   "cell_type": "code",
   "execution_count": null,
   "metadata": {},
   "outputs": [],
   "source": [
    "images, real_positions = next(generator)\n",
    "\n",
    "mesured_positions = model.predict(images)\n",
    "\n",
    "for i in range(images.shape[0]):\n",
    "    \n",
    "    image = np.squeeze(images[i])\n",
    "    plt.imshow(image, cmap='gray')\n",
    "    \n",
    "    mesured_position_x = prediction[i, 0] * 64\n",
    "    mesured_position_y = prediction[i, 1] * 64    \n",
    "    plt.scatter(mesured_position_x, mesured_position_y)\n",
    "    \n",
    "    plt.show()"
   ]
  }
 ],
 "metadata": {
  "file_extension": ".py",
  "kernelspec": {
   "display_name": "Python 3",
   "language": "python",
   "name": "python3"
  },
  "language_info": {
   "codemirror_mode": {
    "name": "ipython",
    "version": 3
   },
   "file_extension": ".py",
   "mimetype": "text/x-python",
   "name": "python",
   "nbconvert_exporter": "python",
   "pygments_lexer": "ipython3",
   "version": "3.6.8"
  },
  "mimetype": "text/x-python",
  "name": "python",
  "npconvert_exporter": "python",
  "pygments_lexer": "ipython3",
  "version": 3
 },
 "nbformat": 4,
 "nbformat_minor": 2
}
