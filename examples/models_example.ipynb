{
 "cells": [
  {
   "cell_type": "code",
   "execution_count": null,
   "metadata": {},
   "outputs": [],
   "source": [
    "%matplotlib inline\n",
    "import sys\n",
    "sys.path.append(\"..\") # Adds the module to path"
   ]
  },
  {
   "cell_type": "markdown",
   "metadata": {},
   "source": [
    "# deeptrack.models\n",
    "\n",
    "This notebook introduces the module deeptrack.models"
   ]
  },
  {
   "cell_type": "markdown",
   "metadata": {},
   "source": [
    "## What is a model?\n",
    "\n",
    "The module deeptrack.models contains constructors for Keras models.  "
   ]
  },
  {
   "cell_type": "markdown",
   "metadata": {},
   "source": [
    "### Convolutional"
   ]
  },
  {
   "cell_type": "code",
   "execution_count": null,
   "metadata": {},
   "outputs": [],
   "source": [
    "from deeptrack.models import convolutional\n",
    "\n",
    "model = convolutional(\n",
    "    input_shape=(64, 64, 1),                  # shape of the input\n",
    "    conv_layers_dimensions=(16, 32, 64, 128), # number of features in each convolutional step\n",
    "    dense_layers_dimensions=(32, 32),         # number of features in each dense step \n",
    "    number_of_outputs=3                       # number of features in the final dense step\n",
    ")\n",
    "\n",
    "model.summary()"
   ]
  },
  {
   "cell_type": "markdown",
   "metadata": {},
   "source": [
    "### Unet"
   ]
  },
  {
   "cell_type": "code",
   "execution_count": null,
   "metadata": {},
   "outputs": [],
   "source": [
    "from deeptrack.models import unet\n",
    "\n",
    "model = unet(\n",
    "    input_shape=(64, 64, 1),                  # shape of the input\n",
    "    conv_layers_dimensions=(16, 32, 64, 128), # number of features in each convolutional step\n",
    "    base_conv_layers_dimensions=(256, 256),   # number of features at the base of the unet\n",
    "    output_conv_layers_dimensions=(32, 32),   # number of features in convolutional steps after the unet\n",
    "    steps_per_pooling=1,                      # number of convolutional steps per pooling layer\n",
    "    number_of_outputs=1                       # number of output features\n",
    ")\n",
    "\n",
    "model.summary()"
   ]
  }
 ],
 "metadata": {
  "kernelspec": {
   "display_name": "Python 3",
   "language": "python",
   "name": "python3"
  },
  "language_info": {
   "codemirror_mode": {
    "name": "ipython",
    "version": 3
   },
   "file_extension": ".py",
   "mimetype": "text/x-python",
   "name": "python",
   "nbconvert_exporter": "python",
   "pygments_lexer": "ipython3",
   "version": "3.6.7"
  }
 },
 "nbformat": 4,
 "nbformat_minor": 2
}
