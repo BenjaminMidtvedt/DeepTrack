{
 "cells": [
  {
   "cell_type": "code",
   "execution_count": null,
   "metadata": {},
   "outputs": [],
   "source": [
    "%matplotlib inline\n",
    "import sys\n",
    "sys.path.append(\"..\") # Adds the module to path"
   ]
  },
  {
   "cell_type": "markdown",
   "metadata": {},
   "source": [
    "# DeepTrack.noises\n",
    "\n",
    "This notebook introduces the module DeepTrack.noises"
   ]
  },
  {
   "cell_type": "markdown",
   "metadata": {},
   "source": [
    "## What is a noise?\n",
    "\n",
    "Noises are implementations of the abstract class Feature. They are differ from other features in that they are not guaranteed to be deterministic. That is, the same feature may resolve different images despite being fed the same input image and having the same properties. \n",
    "\n",
    "Currently the following noises are defined:\n",
    "\n",
    "* Gaussian noise - adds a Gaussian distributed noise to the image\n",
    "* Poisson noise - introduces a Poisson distributed noise to the image \n",
    "* Offset noise - adds a constant offset to the image. #Maybe move to scatterers? Since its more like background light?"
   ]
  },
  {
   "cell_type": "code",
   "execution_count": null,
   "metadata": {},
   "outputs": [],
   "source": [
    "from DeepTrack.noises import Gaussian, Offset, Poisson\n",
    "import numpy as np\n",
    "import matplotlib.pyplot as plt\n",
    "\n",
    "gaussian_noise = Gaussian(mu=0.1, sigma=0.05)\n",
    "\n",
    "input_image = np.zeros((64, 64))\n",
    "output_image = gaussian_noise.resolve(input_image)\n",
    "\n",
    "plt.imshow(output_image)\n",
    "plt.show();"
   ]
  },
  {
   "cell_type": "code",
   "execution_count": null,
   "metadata": {},
   "outputs": [],
   "source": [
    "offset = Offset(offset=0.5)\n",
    "\n",
    "input_image = np.zeros((64, 64))\n",
    "output_image = offset.resolve(input_image)\n",
    "\n",
    "plt.imshow(output_image, vmin=0, vmax=1)\n",
    "plt.show();"
   ]
  },
  {
   "cell_type": "code",
   "execution_count": null,
   "metadata": {},
   "outputs": [],
   "source": [
    "poisson_noise = Poisson(snr=20)\n",
    "\n",
    "input_image = np.ones((64, 64))\n",
    "output_image = poisson_noise.resolve(input_image)\n",
    "\n",
    "plt.imshow(output_image)\n",
    "plt.show();"
   ]
  }
 ],
 "metadata": {
  "kernelspec": {
   "display_name": "Python 3",
   "language": "python",
   "name": "python3"
  },
  "language_info": {
   "codemirror_mode": {
    "name": "ipython",
    "version": 3
   },
   "file_extension": ".py",
   "mimetype": "text/x-python",
   "name": "python",
   "nbconvert_exporter": "python",
   "pygments_lexer": "ipython3",
   "version": "3.6.7"
  }
 },
 "nbformat": 4,
 "nbformat_minor": 2
}
