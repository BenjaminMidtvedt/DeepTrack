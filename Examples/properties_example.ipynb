{
 "cells": [
  {
   "cell_type": "code",
   "execution_count": 1,
   "metadata": {},
   "outputs": [],
   "source": [
    "import sys\n",
    "sys.path.append(\"..\") # Adds the module to path"
   ]
  },
  {
   "cell_type": "markdown",
   "metadata": {},
   "source": [
    "# DeepTrack.properties\n",
    "\n",
    "This notebook introduces DeepTrack.properties.\n",
    "\n",
    "## What is a property?\n",
    "\n",
    "Each feature (instance of the class Feature) can have several properties (instances of the class Property).\n",
    "A propety has a value accessible through the `current_value` field, whose data type is not genrally restricted. \n",
    "This value is updated through a sampling rule (method `update()`), which is passed to the class constructor on initialization. \n",
    "\n",
    "## What is a sampling rule?\n",
    "\n",
    "The sampling rule determines how the value of a property is updated upon calling `update()`.\n",
    "A sampling rule is defined when an instance of the class Property is created and can be of any type. \n",
    "When calling `update()`, the value of the property is updated according to first the following that applies:\n",
    "    \n",
    "1.  If the sampling rule has a method `sample()`, call `sample()` and return the output.\n",
    "2.  If the sampling rule is a dictionary, create an exact copy of the dictionary and substitute\n",
    "    any value that has a `sample()` method with the result of the call to this method.\n",
    "3.  If the sampling rule is either a ``list`` or a 1-dimensional ``ndarray``, extract one element randomly.\n",
    "4.  If the sampling rule is an iterable, return the next value.\n",
    "5.  If the sampling rule is callable, call it with no arguments and return the result.\n",
    "6.  If none of the above apply, return the sampling rule itself."
   ]
  },
  {
   "cell_type": "code",
   "execution_count": 2,
   "metadata": {},
   "outputs": [],
   "source": [
    "import numpy as np\n",
    "from DeepTrack.properties import Property"
   ]
  },
  {
   "cell_type": "markdown",
   "metadata": {},
   "source": [
    "### 1 - Property with a constant value\n",
    "\n",
    "The simplest example of a property is one that does not change during an update call.\n",
    "This is commonly either a number or a tuple, but can be any data type that will be evaluated by case 6.\n",
    "If you want to have a constant property with a value that would be evaluated by cases 1-5 (e.g., a list or a function), you can  wrap it as the output of a lambda function."
   ]
  },
  {
   "cell_type": "code",
   "execution_count": 3,
   "metadata": {},
   "outputs": [
    {
     "name": "stdout",
     "output_type": "stream",
     "text": [
      "NUMBER\n",
      "The current value of the property is 1\n",
      "The current value of the property is 1\n",
      "\n",
      "TUPLE\n",
      "The current value of the property is (1, [2, 3], None)\n",
      "The current value of the property is (1, [2, 3], None)\n",
      "\n",
      "WRAPPED LIST\n",
      "The current value of the property is [1, 2, 3]\n",
      "The current value of the property is [1, 2, 3]\n"
     ]
    }
   ],
   "source": [
    "# NUMBER\n",
    "print(\"NUMBER\")\n",
    "\n",
    "P = Property(1)\n",
    "print(\"The current value of the property is\", P.current_value)\n",
    "P.update()\n",
    "print(\"The current value of the property is\", P.current_value) # Numbers are not changed after a update() call\n",
    "\n",
    "# TUPLE\n",
    "print(\"\\nTUPLE\")\n",
    "\n",
    "P = Property((1,[2,3],None))\n",
    "print(\"The current value of the property is\", P.current_value)\n",
    "P.update()\n",
    "print(\"The current value of the property is\", P.current_value) # Tuples are not changed after a update() call\n",
    "\n",
    "# WRAPPED LIST\n",
    "print(\"\\nWRAPPED LIST\")\n",
    "\n",
    "P = Property(lambda: [1,2,3])\n",
    "print(\"The current value of the property is\", P.current_value)\n",
    "P.update()\n",
    "print(\"The current value of the property is\", P.current_value) # Tuples are not changed after a update() call"
   ]
  },
  {
   "cell_type": "markdown",
   "metadata": {},
   "source": [
    "### 2 - Property with a discrete random value \n",
    "\n",
    "Discrete randomness can be achieved by either a list, a 1-dimensional ndarray (case 3) or a function (case 5). For lists and ndarrays, the output is a single element of the list chosen uniformly random. For non-uniform sampling, either use lists with repeated elements, or a function. "
   ]
  },
  {
   "cell_type": "code",
   "execution_count": 4,
   "metadata": {},
   "outputs": [
    {
     "name": "stdout",
     "output_type": "stream",
     "text": [
      "LIST\n",
      "The current value of the property is 4\n",
      "The current value of the property is 2\n",
      "The current value of the property is 3\n",
      "The current value of the property is 2\n",
      "The current value of the property is 3\n",
      "\n",
      "NDARRAY\n",
      "The current value of the property is 0.0\n",
      "The current value of the property is 0.75\n",
      "The current value of the property is 0.75\n",
      "The current value of the property is 0.75\n",
      "The current value of the property is 1.0\n",
      "\n",
      "FUNCTION\n",
      "The current value of the property is 0\n",
      "The current value of the property is 0\n",
      "The current value of the property is 0\n",
      "The current value of the property is 0\n",
      "The current value of the property is 0\n"
     ]
    }
   ],
   "source": [
    "# LIST\n",
    "print(\"LIST\")\n",
    "\n",
    "P = Property([1, 2, 3, 4])\n",
    "for _ in range(5):\n",
    "    P.update()\n",
    "    print(\"The current value of the property is\", P.current_value)\n",
    "\n",
    "# NDARRAY\n",
    "print(\"\\nNDARRAY\")\n",
    "\n",
    "P = Property(np.linspace(0,1,5))\n",
    "for _ in range(5): \n",
    "    P.update()\n",
    "    print(\"The current value of the property is\", P.current_value)\n",
    "    \n",
    "# FUNCTION\n",
    "print(\"\\nFUNCTION\")\n",
    "\n",
    "P = Property(lambda: 1 if np.random.rand() > 0.9 else 0)\n",
    "for _ in range(5): \n",
    "    P.update()\n",
    "    print(\"The current value of the property is\", P.current_value)"
   ]
  },
  {
   "cell_type": "markdown",
   "metadata": {},
   "source": [
    "### 3 - Property with a continuous random value \n",
    "\n",
    "Continuous randomness is typically achieved by passing a function that returns a coninuously random value. This function should take no input, as noted in case 5. To use a function that needs arguments, wrap it in a function that calls it with the correct arguments."
   ]
  },
  {
   "cell_type": "code",
   "execution_count": 5,
   "metadata": {},
   "outputs": [
    {
     "name": "stdout",
     "output_type": "stream",
     "text": [
      "FUNCTION WITH NO INPUT\n",
      "The current value of the property is 0.13308086453553136\n",
      "The current value of the property is 0.8316488979902202\n",
      "The current value of the property is 0.4313000361483551\n",
      "The current value of the property is 0.435409450657286\n",
      "The current value of the property is 0.17479289484872595\n",
      "\n",
      "WRAPPED FUNCTION\n",
      "The current value of the property is 6.512565198031771\n",
      "The current value of the property is 6.036221384384144\n",
      "The current value of the property is 9.357107181640213\n",
      "The current value of the property is 1.4032090465605718\n",
      "The current value of the property is 2.667482930453531\n"
     ]
    }
   ],
   "source": [
    "# FUNCTION WITH NO INPUT\n",
    "print(\"FUNCTION WITH NO INPUT\")\n",
    "P = Property(np.random.rand)\n",
    "for _ in range(5):\n",
    "    P.update()\n",
    "    print(\"The current value of the property is\", P.current_value)\n",
    "\n",
    "# WRAPPED FUNCTION\n",
    "print(\"\\nWRAPPED FUNCTION\")\n",
    "P = Property(lambda: np.random.normal(1, 5))\n",
    "for _ in range(5):\n",
    "    P.update()\n",
    "    print(\"The current value of the property is\", P.current_value)"
   ]
  },
  {
   "cell_type": "markdown",
   "metadata": {},
   "source": [
    "### 4 - Property with a deterministically changing value\n",
    "\n",
    "Deterministically changing properties can be achieved using either an iterator (case 4) or a function. For the output of a function to change deterministically between calls it should reference some variable outside its definition.  \n"
   ]
  },
  {
   "cell_type": "code",
   "execution_count": 6,
   "metadata": {},
   "outputs": [
    {
     "name": "stdout",
     "output_type": "stream",
     "text": [
      "ITERATOR\n",
      "The current value of the property is 1\n",
      "The current value of the property is 2\n",
      "The current value of the property is 3\n",
      "The current value of the property is 4\n",
      "The current value of the property is 5\n",
      "\n",
      "FUNCTION\n",
      "The current value of the property is [1, 1, 2]\n",
      "The current value of the property is [1, 1, 2, 3]\n",
      "The current value of the property is [1, 1, 2, 3, 5]\n",
      "The current value of the property is [1, 1, 2, 3, 5, 8]\n",
      "The current value of the property is [1, 1, 2, 3, 5, 8, 13]\n"
     ]
    }
   ],
   "source": [
    "# ITERATOR\n",
    "print(\"ITERATOR\")\n",
    "P = Property(iter([1,2,3,4,5]))\n",
    "for _ in range(5):\n",
    "    P.update()\n",
    "    print(\"The current value of the property is\", P.current_value)\n",
    "\n",
    "# FUNCTION\n",
    "print(\"\\nFUNCTION\")\n",
    "fibbonacci = [1,1]\n",
    "def fibbonacci_sequence():\n",
    "    fibbonacci.append(fibbonacci[-2] + fibbonacci[-1])\n",
    "    return fibbonacci\n",
    "\n",
    "P = Property(fibbonacci_sequence)\n",
    "for _ in range(5):\n",
    "    P.update()\n",
    "    print(\"The current value of the property is\", P.current_value)"
   ]
  },
  {
   "cell_type": "markdown",
   "metadata": {},
   "source": [
    "## What is a PropertyDict?\n",
    "\n",
    "The second class contained in the DeepTrack.properties module is called PropertyDict. This is a dictionary of properties with a few utility methods defined to make managing collections of properties easier. These include\n",
    "\n",
    "* `current_value_dict()`, which creates and returns a dictionary with the current value of all properties in the PropertyDict.\n",
    "* `update()`, which calls the method `update()` on all properties in the PropertyDict.\n",
    "* `sample()`, which calls the method `sample()` on all properties in the PropertyDict, and creates and returns a dictionary from the output.\n"
   ]
  },
  {
   "cell_type": "code",
   "execution_count": 10,
   "metadata": {},
   "outputs": [
    {
     "name": "stdout",
     "output_type": "stream",
     "text": [
      "The current value of the property dict is {'foo': 1, 'bar': 1, 'baz': 0.7793750185388738}\n",
      "The current value of the property dict is {'foo': 1, 'bar': 2, 'baz': 0.7924147341286129}\n",
      "The current value of the property dict is {'foo': 1, 'bar': 1, 'baz': 0.9611409111716739}\n",
      "The current value of the property dict is {'foo': 1, 'bar': 3, 'baz': 0.776662008561869}\n",
      "The current value of the property dict is {'foo': 1, 'bar': 2, 'baz': 0.3308330896736138}\n"
     ]
    }
   ],
   "source": [
    "from DeepTrack.properties import PropertyDict, Property\n",
    "\n",
    "property_dict = PropertyDict(\n",
    "    foo=Property(1),\n",
    "    bar=Property([1,2,3]),\n",
    "    baz=Property(np.random.rand)\n",
    ")\n",
    "\n",
    "for _ in range(5):\n",
    "    property_dict.update()\n",
    "    print(\"The current value of the property dict is\", property_dict.current_value_dict())"
   ]
  }
 ],
 "metadata": {
  "file_extension": ".py",
  "kernelspec": {
   "display_name": "Python 3",
   "language": "python",
   "name": "python3"
  },
  "language_info": {
   "codemirror_mode": {
    "name": "ipython",
    "version": 3
   },
   "file_extension": ".py",
   "mimetype": "text/x-python",
   "name": "python",
   "nbconvert_exporter": "python",
   "pygments_lexer": "ipython3",
   "version": "3.6.7"
  },
  "mimetype": "text/x-python",
  "name": "python",
  "npconvert_exporter": "python",
  "pygments_lexer": "ipython3",
  "version": 3
 },
 "nbformat": 4,
 "nbformat_minor": 2
}
