{
 "cells": [
  {
   "cell_type": "code",
   "execution_count": null,
   "metadata": {},
   "outputs": [],
   "source": [
    "%matplotlib inline\n",
    "import sys\n",
    "sys.path.append(\"..\") # Adds the module to path"
   ]
  },
  {
   "cell_type": "markdown",
   "metadata": {},
   "source": [
    "# deeptrack.sequences\n",
    "\n",
    "This example introduces the module deeptrack.sequences."
   ]
  },
  {
   "cell_type": "markdown",
   "metadata": {},
   "source": [
    "## 1. What is a sequence?\n",
    "\n",
    "Sequences are lists of images, where any image in the series may depend on previous images. This could be used to create videos, but may also be used to resolve the same feature-set several times, changing only a subset of the properties of the features. An example of this would be imaging a sample at several focal planes.\n",
    "\n",
    "To resolve a sequence, you create an instance of the feature `Sequence`, with the feature-set you want to resolve as the first input, and `sequence_length` as a second input. However, unless otherwise stated, properties remain constant in a series. This means that each step in the sequence would be the same.\n",
    "\n",
    "In order to define how the properties change in a sequence, you should call the function `Sequential` with the feature you want to change during the sequence as the first input, and a set of functions as keyword arguments. These functions will be converted to instances of `SequentialProperty`, which behave similarly to regular properties. For more information about how sequential properties work, see [properties_example.ipynb](properties_example.ipynb).\n"
   ]
  },
  {
   "cell_type": "markdown",
   "metadata": {},
   "source": [
    "## 2. Setup"
   ]
  },
  {
   "cell_type": "code",
   "execution_count": null,
   "metadata": {},
   "outputs": [],
   "source": [
    "import numpy as np\n",
    "\n",
    "from deeptrack.optics import Fluorescence\n",
    "from deeptrack.scatterers import Ellipse\n",
    "from deeptrack.sequences import Sequential, Sequence\n"
   ]
  },
  {
   "cell_type": "markdown",
   "metadata": {},
   "source": [
    "## 3. An example - rotating ellipse"
   ]
  },
  {
   "cell_type": "code",
   "execution_count": null,
   "metadata": {},
   "outputs": [],
   "source": [
    "optics = Fluorescence(\n",
    "    NA=0.6,\n",
    "    magnification=10,\n",
    "    resolution=1e-6,\n",
    "    wavelength=633e-9,\n",
    "    output_region=(0, 0, 32, 32),\n",
    ")\n",
    "\n",
    "ellipse = Ellipse(\n",
    "    position_unit=\"pixel\",\n",
    "    position=(16, 16),\n",
    "    intensity=1,\n",
    "    radius=(1.5e-6, 1e-6),\n",
    "    rotation=0, # This will be the value at time 0.\n",
    "    upsample=2\n",
    ")\n",
    "\n",
    "def get_rotation(sequence_length, previous_value):\n",
    "    return previous_value + 2*np.pi / sequence_length\n",
    "\n",
    "\n",
    "rotating_ellipse = Sequential(ellipse, rotation=get_rotation)    \n",
    "\n",
    "imaged_rotating_ellipse = optics(rotating_ellipse)\n",
    "\n",
    "imaged_rotating_ellipse_sequence = Sequence(imaged_rotating_ellipse, sequence_length=50)\n",
    "\n",
    "\n",
    "imaged_rotating_ellipse_sequence.plot()"
   ]
  }
 ],
 "metadata": {
  "kernelspec": {
   "display_name": "Python 3",
   "language": "python",
   "name": "python3"
  },
  "language_info": {
   "codemirror_mode": {
    "name": "ipython",
    "version": 3
   },
   "file_extension": ".py",
   "mimetype": "text/x-python",
   "name": "python",
   "nbconvert_exporter": "python",
   "pygments_lexer": "ipython3",
   "version": "3.6.9"
  }
 },
 "nbformat": 4,
 "nbformat_minor": 2
}
