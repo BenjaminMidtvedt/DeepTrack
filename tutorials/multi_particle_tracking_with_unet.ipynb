{
 "cells": [
  {
   "cell_type": "code",
   "execution_count": null,
   "metadata": {},
   "outputs": [],
   "source": [
    "import sys\n",
    "sys.path.append(\"..\")"
   ]
  },
  {
   "cell_type": "markdown",
   "metadata": {},
   "source": [
    "# DeepTrack - Tracking multiple particles with a U-net\n",
    "\n",
    "This notebook demonstrates how to use track multipte particles using a U-net with DeepTrack.\n",
    "\n",
    "Specifically, this totorial explains how to:\n",
    "\n",
    "The model receives as an input an image that may or may not contain particles and outputs an image of the same shape, with pixel-values between 0 and 1. A pixel with a value closer to one indicate a high confidence that there is a particle close to that pixel, while values close to zero inicate a high confidence that there is no nearby particle.\n",
    "\n",
    "This tutorial should be read after the tutorial [tracking_point_particle](tracking_point_particle.ipynb)."
   ]
  },
  {
   "cell_type": "markdown",
   "metadata": {},
   "source": [
    "## 1. Setup\n",
    "\n",
    "Imports needed for this tutorial."
   ]
  },
  {
   "cell_type": "code",
   "execution_count": null,
   "metadata": {},
   "outputs": [],
   "source": [
    "from deeptrack.scatterers import PointParticle\n",
    "from deeptrack.optics import OpticalDevice\n",
    "from deeptrack.image import Image\n",
    "from deeptrack.noises import Poisson, Offset\n",
    "from deeptrack.generators import Generator\n",
    "from deeptrack.models import unet\n",
    "from deeptrack.losses import weighted_crossentropy, sigmoid, flatten\n",
    "\n",
    "# TBD: check that all these are really necessary\n",
    "\n",
    "import numpy as np\n",
    "import matplotlib.pyplot as plt"
   ]
  },
  {
   "cell_type": "markdown",
   "metadata": {},
   "source": [
    "## 2. Define the particle\n",
    "\n",
    "For this example, we consider point particles (i.e. point light scatterers). A point particle is an instance of the class PointParticle, defined by its intensity and its position. Here, the position is randomized by using a lambda function. More details can be found in the tutorial [tracking_point_particle](tracking_point_particle.ipynb)."
   ]
  },
  {
   "cell_type": "code",
   "execution_count": null,
   "metadata": {},
   "outputs": [],
   "source": [
    "particle = PointParticle(                                         \n",
    "    intensity=100,\n",
    "    position=lambda: np.random.rand(2) * 256,\n",
    "    position_unit=\"pixel\"\n",
    ")"
   ]
  },
  {
   "cell_type": "markdown",
   "metadata": {},
   "source": [
    "## 3. Define the optics \n",
    "\n",
    "Next, we need to define the properties of the optical system. This is done using an instance of the class Optics, which takes a set of light scatterers (particles) and convolves them with the pupil function (point spread function) of the optical system. More details can be found in the tutorial [tracking_point_particle](tracking_point_particle.ipynb)."
   ]
  },
  {
   "cell_type": "code",
   "execution_count": null,
   "metadata": {},
   "outputs": [],
   "source": [
    "Optics = OpticalDevice(\n",
    "    NA=0.7,                \n",
    "    pixel_size=0.1e-6,     \n",
    "    wavelength=680e-9\n",
    ")"
   ]
  },
  {
   "cell_type": "markdown",
   "metadata": {},
   "source": [
    "## 4. Define noises\n",
    "\n",
    "We introduce two sources of noise:\n",
    "1. A Poisson noise with SNR between 10 and 30.\n",
    "2. A background offset between 0 and 20."
   ]
  },
  {
   "cell_type": "code",
   "execution_count": null,
   "metadata": {},
   "outputs": [],
   "source": [
    "poisson_noise = Poisson(\n",
    "    snr=np.linspace(10,30)\n",
    ")\n",
    "\n",
    "offset = Offset(\n",
    "    offset=lambda: np.random.rand()*20\n",
    ")"
   ]
  },
  {
   "cell_type": "markdown",
   "metadata": {},
   "source": [
    "## 5. Define the image features\n",
    "\n",
    "We want images with a random number of particles between 1 and 10, a background offset, and Poisson noise."
   ]
  },
  {
   "cell_type": "code",
   "execution_count": null,
   "metadata": {},
   "outputs": [],
   "source": [
    "num_particles = list(range(1,10)) \n",
    "\n",
    "image_features = Optics(particle**num_particles + offset) + poisson_noise"
   ]
  },
  {
   "cell_type": "markdown",
   "metadata": {},
   "source": [
    "## 6. Plot example images\n",
    "\n",
    "Now, we visualize some example images. At each iteration, we call the method `.update()` to refresh the random features in the image (particle number, particle position, offset level, and Poisson noise). Afterwards we call the method `.plot((256, 256))` to generate the image, where `(256, 256)` defines the size of the image and the input image is implicitly set to `np.zeros((256, 256))`."
   ]
  },
  {
   "cell_type": "code",
   "execution_count": null,
   "metadata": {},
   "outputs": [],
   "source": [
    "for i in range(4):\n",
    "    image_features.update()\n",
    "    output_image = image_features.plot((256,256))"
   ]
  },
  {
   "cell_type": "markdown",
   "metadata": {},
   "source": [
    "## 7. Create the target images\n",
    "\n",
    "We now use the generated images to crete the target images to be used in the training."
   ]
  },
  {
   "cell_type": "code",
   "execution_count": null,
   "metadata": {},
   "outputs": [],
   "source": [
    "def get_target_image(image):\n",
    "    label = np.zeros(image.shape)\n",
    "    X, Y = np.meshgrid(\n",
    "        np.arange(0, image.shape[0]), \n",
    "        np.arange(0, image.shape[1])\n",
    "    )\n",
    "\n",
    "    for property in image.properties:\n",
    "        if property[\"name\"] == \"PointParticle\":\n",
    "            position = property[\"position\"]\n",
    "\n",
    "            distance_map = (X - position[0])**2 + (Y - position[1])**2\n",
    "            label[distance_map < 4] = 1\n",
    "    \n",
    "    return np.expand_dims(label,axis=-1)\n",
    "\n",
    "# TBD: Here, it'd be good to add some code to plot images and targets next to each other"
   ]
  },
  {
   "cell_type": "markdown",
   "metadata": {},
   "source": [
    "## 8. Define image generator\n",
    "\n",
    "TBD: add comments -- I think we can eliminate the validation_generator, unless there is a reason to keep it that I don't see"
   ]
  },
  {
   "cell_type": "code",
   "execution_count": null,
   "metadata": {},
   "outputs": [],
   "source": [
    "generator = Generator().generate(\n",
    "    image_features, \n",
    "    get_target_image, \n",
    "    shape=(256, 256), \n",
    "    batch_size=16\n",
    ")\n",
    "\n",
    "validation_generator = Generator().generate(\n",
    "    image_features, \n",
    "    get_target_image, \n",
    "    shape=(256, 256), \n",
    "    batch_size=1)"
   ]
  },
  {
   "cell_type": "markdown",
   "metadata": {},
   "source": [
    "## 9. Define the neural network model\n",
    "\n",
    "TBD"
   ]
  },
  {
   "cell_type": "code",
   "execution_count": null,
   "metadata": {},
   "outputs": [],
   "source": [
    "model = unet(\n",
    "    (256, 256, 1), \n",
    "    conv_layers_dimensions=[16, 32, 32, 32], \n",
    "    loss=flatten(weighted_crossentropy((90, 1)))\n",
    ")"
   ]
  },
  {
   "cell_type": "code",
   "execution_count": null,
   "metadata": {},
   "outputs": [],
   "source": [
    "\n",
    "import tensorflow.keras.backend as K\n",
    "from tensorflow import keras\n",
    "        \n"
   ]
  },
  {
   "cell_type": "markdown",
   "metadata": {},
   "source": [
    "## 10. Train the model\n",
    "\n",
    "The model is trained by calling `.fit()`."
   ]
  },
  {
   "cell_type": "code",
   "execution_count": null,
   "metadata": {},
   "outputs": [],
   "source": [
    "model.fit(\n",
    "    generator, \n",
    "    epochs=20, \n",
    "    steps_per_epoch=10\n",
    ")"
   ]
  },
  {
   "cell_type": "markdown",
   "metadata": {},
   "source": [
    "## 11. Visualize the model performance\n",
    "\n",
    "TBD"
   ]
  },
  {
   "cell_type": "code",
   "execution_count": null,
   "metadata": {},
   "outputs": [],
   "source": [
    "for i in range(5):\n",
    "    input_image, target_image = next(generator)\n",
    "    \n",
    "    predicted_image = model.predict(image)\n",
    "    \n",
    "    plt.subplot(1,3,1)\n",
    "    plt.imshow(np.squeeze(image[0, :, :, 0]))\n",
    "    plt.title(\"Input Image\")\n",
    "\n",
    "    plt.subplot(1,3,2)\n",
    "    plt.imshow(np.squeeze(predicted_image[0, :, :, 0]))\n",
    "    plt.title(\"Predicted Image\")\n",
    "    \n",
    "    plt.subplot(1,3,3)\n",
    "    plt.imshow(np.squeeze(l[0, :, :, 0] > 0.5))\n",
    "    plt.title(\"Target Image (Ground Truth)\")\n",
    "\n",
    "    plt.show()"
   ]
  }
 ],
 "metadata": {
  "kernelspec": {
   "display_name": "Python 3",
   "language": "python",
   "name": "python3"
  },
  "language_info": {
   "codemirror_mode": {
    "name": "ipython",
    "version": 3
   },
   "file_extension": ".py",
   "mimetype": "text/x-python",
   "name": "python",
   "nbconvert_exporter": "python",
   "pygments_lexer": "ipython3",
   "version": "3.6.8"
  }
 },
 "nbformat": 4,
 "nbformat_minor": 2
}
