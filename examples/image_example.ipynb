{
 "cells": [
  {
   "cell_type": "code",
   "execution_count": null,
   "metadata": {},
   "outputs": [],
   "source": [
    "import sys\n",
    "sys.path.append(\"..\") # Adds the module to path"
   ]
  },
  {
   "cell_type": "markdown",
   "metadata": {},
   "source": [
    "# deeptrack.image\n",
    "\n",
    "This notebook introduces the module deeptrack.image.\n",
    "\n",
    "## What is an image?\n",
    "\n",
    "Images are the containers that are used by features to store both the image its generating and the properties it used to generate the image. It is a subclass of numpy ndarray, meaning any operation that works on numpy ndarrays will also work in instances of Image. However, Image also has a field `properties`, which contains the information about how the image was generated. Specifically, it's a list of dictionaries, where each dictionary is the current values of the properties of a feature (with the names of the properties as keys). The list is ordered in the order the features have been resolved.\n",
    "\n",
    "By storing the properties used to resolve the image, information about the image can be accessed without access to the feature series. This allows features to change their behaviour depending on what is already in the image. It also makes it possible to extract numeric information about the image used in machine learning. "
   ]
  },
  {
   "cell_type": "code",
   "execution_count": null,
   "metadata": {},
   "outputs": [],
   "source": [
    "import numpy as np\n",
    "\n",
    "from deeptrack.features import Feature\n",
    "from deeptrack.image import Image\n",
    "\n",
    "class Particle(Feature):\n",
    "    def get(self, image, position=None, **kwargs):\n",
    "        \n",
    "        # Code for simulating a particle not included\n",
    "        \n",
    "        return image\n",
    "    \n",
    "image_shape = (256,256)\n",
    "    \n",
    "particle = Particle(\n",
    "    position= lambda: np.random.rand(2) * np.array(image_shape)\n",
    ")\n",
    "\n",
    "\n",
    "\n",
    "input_image = Image(np.zeros(image_shape))\n",
    "\n",
    "output_image = particle.resolve(input_image)\n",
    "\n",
    "output_image.properties"
   ]
  },
  {
   "cell_type": "markdown",
   "metadata": {},
   "source": [
    "## Storing metadata about an image not used by the feature\n",
    "\n",
    "Sometimes it's convenient to store some information about a feature outside what is necessary to generate it. For example, you may want to specify one particle to track, or you might want to randomize the diffusion-constant of a particle to correctly generate sequences of images. This can be done by passing more keyword arguments to the constructor of a feature. These will be stored as properties just like any other input to the constructor."
   ]
  },
  {
   "cell_type": "code",
   "execution_count": null,
   "metadata": {},
   "outputs": [],
   "source": [
    "p_1 = Particle(\n",
    "    position=lambda: np.random.rand(2) * np.array(image_shape),\n",
    "    track_me=True\n",
    ")\n",
    "\n",
    "p_2 = Particle(\n",
    "    position=lambda: np.random.rand(2) * np.array(image_shape),\n",
    "    track_me=False\n",
    ")\n",
    "\n",
    "input_image = Image(np.zeros(image_shape))\n",
    "\n",
    "particles = p_2**4 + p_1\n",
    "\n",
    "output_image = particles.resolve(input_image, a=1)\n",
    "\n",
    "output_image.properties"
   ]
  },
  {
   "cell_type": "code",
   "execution_count": null,
   "metadata": {},
   "outputs": [],
   "source": [
    "particle = Particle(\n",
    "    position=lambda: np.random.rand(2) * np.array(image_shape),\n",
    "    diffusion=lambda: 1 + np.random.rand() * 4\n",
    ") \n",
    "\n",
    "input_image = Image(np.zeros(image_shape))\n",
    "\n",
    "particles = particle ** 3\n",
    "\n",
    "output_image = particles.resolve(input_image)\n",
    "\n",
    "output_image.properties"
   ]
  }
 ],
 "metadata": {
  "kernelspec": {
   "display_name": "Python 3",
   "language": "python",
   "name": "python3"
  },
  "language_info": {
   "codemirror_mode": {
    "name": "ipython",
    "version": 3
   },
   "file_extension": ".py",
   "mimetype": "text/x-python",
   "name": "python",
   "nbconvert_exporter": "python",
   "pygments_lexer": "ipython3",
   "version": "3.6.7"
  }
 },
 "nbformat": 4,
 "nbformat_minor": 2
}
