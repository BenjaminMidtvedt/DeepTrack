{
 "cells": [
  {
   "cell_type": "code",
   "execution_count": null,
   "metadata": {},
   "outputs": [],
   "source": [
    "%matplotlib inline\n",
    "import sys\n",
    "sys.path.append(\"..\") # Adds the module to path"
   ]
  },
  {
   "cell_type": "markdown",
   "metadata": {},
   "source": [
    "# deeptrack.generators\n",
    "\n",
    "This notebook introduces the module deeptrack.generators"
   ]
  },
  {
   "cell_type": "markdown",
   "metadata": {},
   "source": [
    "# What is a generator\n",
    "\n",
    "Generators are tools for continuously creating new images from a feature series. They are fully Keras compatible, meaning they can serve as the input to a keras model during training. The first argument is the feature to resolve, while the second is a function that extracts labels from an image, given an image as input."
   ]
  },
  {
   "cell_type": "code",
   "execution_count": null,
   "metadata": {},
   "outputs": [],
   "source": [
    "from deeptrack.generators import Generator\n",
    "\n",
    "generator = Generator()"
   ]
  },
  {
   "cell_type": "code",
   "execution_count": null,
   "metadata": {},
   "outputs": [],
   "source": [
    "from deeptrack.optics import OpticalDevice\n",
    "from deeptrack.scatterers import PointParticle\n",
    "\n",
    "import numpy as np\n",
    "import matplotlib.pyplot as plt\n",
    "\n",
    "optics = OpticalDevice(\n",
    "    NA=0.7,\n",
    "    wavelength=680e-9,\n",
    "    pixel_size=100e-9\n",
    ")\n",
    "\n",
    "scatterer = PointParticle(\n",
    "    intensity=100,        \n",
    "    position=lambda: np.random.rand(2) * 128,\n",
    "    position_unit=\"pixel\" \n",
    ")\n",
    "\n",
    "\n",
    "imaged_scatterer = optics(scatterer)\n",
    "\n",
    "\n",
    "def get_particle_position(result):\n",
    "    for property in result.properties:\n",
    "        if \"position\" in property:\n",
    "            return property[\"position\"]\n",
    "\n",
    "particle_generator = generator.generate(imaged_scatterer, get_particle_position, shape=(128,128), batch_size=4)\n",
    "\n",
    "\n",
    "batch, positions = next(particle_generator)\n",
    "\n",
    "for particle, position in zip(batch, positions):\n",
    "    input_image = np.zeros((64, 64))\n",
    "    plt.imshow(np.squeeze(particle))\n",
    "    plt.scatter(position[0], position[1], c='g', marker='x')\n",
    "    plt.show()"
   ]
  }
 ],
 "metadata": {
  "kernelspec": {
   "display_name": "Python 3",
   "language": "python",
   "name": "python3"
  },
  "language_info": {
   "codemirror_mode": {
    "name": "ipython",
    "version": 3
   },
   "file_extension": ".py",
   "mimetype": "text/x-python",
   "name": "python",
   "nbconvert_exporter": "python",
   "pygments_lexer": "ipython3",
   "version": "3.6.7"
  }
 },
 "nbformat": 4,
 "nbformat_minor": 2
}
