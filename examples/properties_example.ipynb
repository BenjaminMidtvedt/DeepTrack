{
 "cells": [
  {
   "cell_type": "code",
   "execution_count": null,
   "metadata": {},
   "outputs": [],
   "source": [
    "%matplotlib inline\n",
    "import sys\n",
    "sys.path.append(\"..\") # Adds the module to path"
   ]
  },
  {
   "cell_type": "markdown",
   "metadata": {},
   "source": [
    "# deeptrack.properties\n",
    "\n",
    "This example introduces the module deeptrack.properties.\n",
    "\n",
    "## What is a property?\n",
    "\n",
    "Each feature (instance of the class `Feature`, see [features_example](features_example.ipynb)) can have several properties (instances of the class `Property`).\n",
    "A propety has a value accessible through the field `current_value`, whose data type is not restricted. \n",
    "This value is updated through a sampling rule (method `.update()`), which is passed to the class constructor on initialization. \n",
    "\n",
    "## What is a sampling rule?\n",
    "\n",
    "The sampling rule determines how the value of a property is updated upon calling `.update()`.\n",
    "A sampling rule is defined when an instance of the class Property is created and can be of any type. \n",
    "When calling `.update()`, the value of the property is updated according to the first of the following that applies:\n",
    "    \n",
    "1.  If the sampling rule has a method `.sample()`, call `.sample()` and return the output.\n",
    "2.  If the sampling rule is a dictionary, create an exact copy of the dictionary and recursively update each item in the copy using the same set of rules, and return the new dictionary. \n",
    "3.  If the sampling rule is a `list`, create an exact copy of the list and recursively update each element in the copy using the same set of rules, and return the new list.\n",
    "4.  If the sampling rule is an iterable, return the next value. If the iterable is exhausted, the value of the property is not changed.\n",
    "5.  If the sampling rule is callable, call it and return the result.\n",
    "6.  If none of the above apply, return the sampling rule itself."
   ]
  },
  {
   "cell_type": "code",
   "execution_count": null,
   "metadata": {},
   "outputs": [],
   "source": [
    "import numpy as np\n",
    "from deeptrack.properties import Property"
   ]
  },
  {
   "cell_type": "markdown",
   "metadata": {},
   "source": [
    "## 1. Property with a constant value\n",
    "\n",
    "The simplest example of a property is one that does not change during an update call.\n",
    "This is commonly either a number or a tuple, but can be any data type that will be evaluated by case 6.\n",
    "If you want to have a constant property with a value that would be evaluated by cases 1-5 (e.g., a list or a function), you can  wrap it as the output of a lambda function."
   ]
  },
  {
   "cell_type": "code",
   "execution_count": null,
   "metadata": {},
   "outputs": [],
   "source": [
    "# NUMBER\n",
    "\n",
    "P = Property(1)\n",
    "print(\"The current value of the property is\", P.current_value)\n",
    "\n",
    "P.update(force_update=True) # Numbers are not changed after a update() call\n",
    "print(\"The current value of the property is\", P.current_value)"
   ]
  },
  {
   "cell_type": "markdown",
   "metadata": {},
   "source": [
    "Note that in this example we call `.update(force_update=True)` instead of the much more common `.update()`. This is necessary in this example because the properties are not linked to an instance of `Feature` and, therefore, are never resolved (which happens when a `Feature` is resolved and resets the properties so that it can be updated again)."
   ]
  },
  {
   "cell_type": "code",
   "execution_count": null,
   "metadata": {},
   "outputs": [],
   "source": [
    "# TUPLE\n",
    "\n",
    "P = Property((1, [2, 3], None))\n",
    "print(\"The current value of the property is\", P.current_value)\n",
    "\n",
    "P.update(force_update=True) # Tuples are not changed after a update() call\n",
    "print(\"The current value of the property is\", P.current_value)"
   ]
  },
  {
   "cell_type": "code",
   "execution_count": null,
   "metadata": {},
   "outputs": [],
   "source": [
    "# WRAPPED LIST\n",
    "\n",
    "P = Property(lambda: [np.random.rand, 1, {}])\n",
    "print(\"The current value of the property is\", P.current_value)\n",
    "\n",
    "P.update(force_update=True) # Tuples are not changed after a update() call\n",
    "print(\"The current value of the property is\", P.current_value)"
   ]
  },
  {
   "cell_type": "markdown",
   "metadata": {},
   "source": [
    "## 2. Property with a discrete random value \n",
    "\n",
    "Discrete randomness can be achieved by a function (case 5)."
   ]
  },
  {
   "cell_type": "code",
   "execution_count": null,
   "metadata": {},
   "outputs": [],
   "source": [
    "# FUNCTION\n",
    "\n",
    "P = Property(lambda: np.random.randint(0, 10))\n",
    "for _ in range(5): \n",
    "    P.update(force_update=True)\n",
    "    print(\"The current value of the property is\", P.current_value)"
   ]
  },
  {
   "cell_type": "code",
   "execution_count": null,
   "metadata": {},
   "outputs": [],
   "source": [
    "# BINARY CHOICE\n",
    "\n",
    "P = Property(lambda: 1 if np.random.rand() > 0.75 else 0)\n",
    "for _ in range(5): \n",
    "    P.update(force_update=True)\n",
    "    print(\"The current value of the property is\", P.current_value)"
   ]
  },
  {
   "cell_type": "markdown",
   "metadata": {},
   "source": [
    "## 3. Property with a continuous random value \n",
    "\n",
    "Continuous randomness is typically achieved by passing a function that returns a coninuous random value. This function should take no input, as noted in case 5. To use a function that needs arguments, wrap it in a function that calls it with the correct arguments."
   ]
  },
  {
   "cell_type": "code",
   "execution_count": null,
   "metadata": {},
   "outputs": [],
   "source": [
    "# FUNCTION WITH NO INPUT\n",
    "\n",
    "P = Property(np.random.rand)\n",
    "for _ in range(5):\n",
    "    P.update(force_update=True)\n",
    "    print(\"The current value of the property is\", P.current_value)"
   ]
  },
  {
   "cell_type": "code",
   "execution_count": null,
   "metadata": {},
   "outputs": [],
   "source": [
    "# WRAPPED FUNCTION\n",
    "\n",
    "P = Property(lambda: np.random.normal(1, 5))\n",
    "for _ in range(5):\n",
    "    P.update(force_update=True)\n",
    "    print(\"The current value of the property is\", P.current_value)"
   ]
  },
  {
   "cell_type": "markdown",
   "metadata": {},
   "source": [
    "## 4. Property with a deterministically changing value\n",
    "\n",
    "Deterministically changing properties can be achieved using either an iterator (case 4) or a function (case 5). For the output of a function to change deterministically between calls, it should reference some variable outside its definition. Once an iterator has been exhausted, it will always return its last value."
   ]
  },
  {
   "cell_type": "code",
   "execution_count": null,
   "metadata": {},
   "outputs": [],
   "source": [
    "# ITERATOR\n",
    "\n",
    "P = Property(iter([1, 2, 3, 4, 5]))\n",
    "for _ in range(10):\n",
    "    P.update(force_update=True)\n",
    "    print(\"The current value of the property is\", P.current_value)"
   ]
  },
  {
   "cell_type": "code",
   "execution_count": null,
   "metadata": {},
   "outputs": [],
   "source": [
    "# FUNCTION\n",
    "\n",
    "fibbonacci = [1, 1]\n",
    "def fibbonacci_sequence():\n",
    "    fibbonacci.append(fibbonacci[-2] + fibbonacci[-1])\n",
    "    return fibbonacci\n",
    "\n",
    "P = Property(fibbonacci_sequence)\n",
    "for _ in range(10):\n",
    "    P.update(force_update=True)\n",
    "    print(\"The current value of the property is\", P.current_value)"
   ]
  },
  {
   "cell_type": "markdown",
   "metadata": {},
   "source": [
    "## 5. Property with dependent value\n",
    "\n",
    "The value of a property can be dependent on the value on some other property. It does this by accepting some keyword argument corresponding to the name of the independent property. Instances of `Feature` will handle this automatically."
   ]
  },
  {
   "cell_type": "code",
   "execution_count": null,
   "metadata": {},
   "outputs": [],
   "source": [
    "random_number = Property(lambda: np.random.rand())\n",
    "\n",
    "def get_dependent_number(random_number=None):\n",
    "    return random_number + 1\n",
    "\n",
    "dependent_number = Property(get_dependent_number)\n",
    "\n",
    "for _ in range(5):\n",
    "    dependent_number.update(random_number=random_number, force_update=True)\n",
    "    print(\"The current value of the independent property is\", random_number.current_value)\n",
    "    print(\"The current value of the dependent property is\", dependent_number.current_value, \"\\n\")"
   ]
  },
  {
   "cell_type": "markdown",
   "metadata": {},
   "source": [
    "## 6. What is a SequentialProperty?"
   ]
  },
  {
   "cell_type": "code",
   "execution_count": null,
   "metadata": {},
   "outputs": [],
   "source": []
  },
  {
   "cell_type": "markdown",
   "metadata": {},
   "source": [
    "## 7. What is a PropertyDict?\n",
    "\n",
    "Another class contained in the module deeptrack.properties is `PropertyDict`. This is a dictionary of properties (keys: name of properties; values: properties) complemented by utility methods to manage collections of properties. These include:\n",
    "\n",
    "* `.current_value_dict()`, which creates and returns a dictionary with the current value of all properties in the PropertyDict (keys: name of properties; values: current values of the properties).\n",
    "* `.update()`, which calls the method `.update()` on all properties in the PropertyDict.\n",
    "* `.sample()`, which calls the method `.sample()` on all properties in the PropertyDict, and creates and returns a dictionary from the output (keys: name of properties; values: sample outputs of the properties).\n"
   ]
  },
  {
   "cell_type": "code",
   "execution_count": null,
   "metadata": {},
   "outputs": [],
   "source": [
    "from deeptrack.properties import PropertyDict, Property\n",
    "\n",
    "property_dict = PropertyDict(\n",
    "    foo=Property(1),\n",
    "    bar=Property(np.random.rand)\n",
    ")\n",
    "\n",
    "for _ in range(5):\n",
    "    property_dict.update(force_update=True)\n",
    "    print(\"The current values of the properties in property_dict are\", property_dict.current_value_dict())"
   ]
  }
 ],
 "metadata": {
  "file_extension": ".py",
  "kernelspec": {
   "display_name": "Python 3",
   "language": "python",
   "name": "python3"
  },
  "language_info": {
   "codemirror_mode": {
    "name": "ipython",
    "version": 3
   },
   "file_extension": ".py",
   "mimetype": "text/x-python",
   "name": "python",
   "nbconvert_exporter": "python",
   "pygments_lexer": "ipython3",
   "version": "3.6.9"
  },
  "mimetype": "text/x-python",
  "name": "python",
  "npconvert_exporter": "python",
  "pygments_lexer": "ipython3",
  "version": 3
 },
 "nbformat": 4,
 "nbformat_minor": 2
}
