{
 "cells": [
  {
   "cell_type": "code",
   "execution_count": 1,
   "metadata": {},
   "outputs": [],
   "source": [
    "%matplotlib inline\n",
    "import sys\n",
    "sys.path.append(\"..\") # Adds the module to path"
   ]
  },
  {
   "cell_type": "markdown",
   "metadata": {},
   "source": [
    "# deeptrack.optics\n",
    "\n",
    "This example introduces the module deeptrack.optics"
   ]
  },
  {
   "cell_type": "markdown",
   "metadata": {},
   "source": [
    "## What is an optical device?\n",
    "\n",
    "Optical devices are implementations of the abstract class `Features` (see also [features_example](features_example.ipynb)) that image their input through some optical setup. They treat the input as a discretization of the complex field scattered by a sample, and, unless otherwise stated, assume the illumination is incoherent. \n",
    "\n",
    "The preferred syntax to call an optical device on a feature series `F` is `optics(F)`. Using this syntax, the properties of the optical device is accessible by `F`. However, also the syntax `F + optics` is possible, but in this case, the properties of the optical device are not accessible by `F`."
   ]
  },
  {
   "cell_type": "code",
   "execution_count": 2,
   "metadata": {},
   "outputs": [
    {
     "data": {
      "image/png": "[encoded data removed]",
      "text/plain": [
       "<Figure size 432x288 with 1 Axes>"
      ]
     },
     "metadata": {
      "needs_background": "light"
     },
     "output_type": "display_data"
    }
   ],
   "source": [
    "from deeptrack.optics import Fluorescence\n",
    "from deeptrack.scatterers import PointParticle\n",
    "\n",
    "import numpy as np\n",
    "import matplotlib.pyplot as plt\n",
    "\n",
    "optics = Fluorescence(\n",
    "    NA=0.7,                       # Numerical aperture\n",
    "    wavelength=660e-9,            # Wavelength of scatterer\n",
    "    resolution=1e-6,              # Pixel size of the camera. Also determines z-resolution\n",
    "    magnification=10,             # Magnification of the optical aperature\n",
    "    refractive_index_medium=1.33, # Refractive index of the medium\n",
    "    upscale=2,                    # Upscales the pupil function for accuracy\n",
    "    output_region=(0, 0, 64, 64)  # Extracts a part of the output image (x, y, width, height)\n",
    ")\n",
    "\n",
    "scatterer = PointParticle(\n",
    "    intensity=100,         # Squared magnitude of the field. \n",
    "    position_unit=\"pixel\", # Units of position (default meter)\n",
    "    position=(32, 32) ,    # Position of the particle\n",
    ")\n",
    "\n",
    "imaged_scatterer = optics(scatterer)\n",
    "\n",
    "imaged_scatterer.plot(cmap=\"gray\")"
   ]
  },
  {
   "cell_type": "code",
   "execution_count": null,
   "metadata": {},
   "outputs": [],
   "source": []
  }
 ],
 "metadata": {
  "kernelspec": {
   "display_name": "Python 3",
   "language": "python",
   "name": "python3"
  },
  "language_info": {
   "codemirror_mode": {
    "name": "ipython",
    "version": 3
   },
   "file_extension": ".py",
   "mimetype": "text/x-python",
   "name": "python",
   "nbconvert_exporter": "python",
   "pygments_lexer": "ipython3",
   "version": "3.6.9"
  }
 },
 "nbformat": 4,
 "nbformat_minor": 2
}
