{
 "cells": [
  {
   "cell_type": "code",
   "metadata": {},
   "outputs": [],
   "source": [
    "%matplotlib inline\n",
    "import sys\n",
    "sys.path.append(\"..\")"
   ]
  },
  {
   "cell_type": "markdown",
   "metadata": {},
   "outputs": [],
   "source": [
    "# DeepTrack - Tracking multiple particles with a U-net\n",
    "\n",
    "This notebook demonstrates how to use track multipte particles using a U-net with DeepTrack.\n",
    "\n",
    "Specifically, this totorial explains how to:\n",
    "\n",
    "The model receives as an input an image that may or may not contain particles and outputs an image of the same shape, with pixel-values between 0 and 1. A pixel with a value closer to one indicate a high confidence that there is a particle close to that pixel, while values close to zero inicate a high confidence that there is no nearby particle.\n",
    "\n",
    "This tutorial should be read after the tutorial [tracking_point_particle](tracking_point_particle.ipynb)."
   ]
  },
  {
   "cell_type": "markdown",
   "metadata": {},
   "outputs": [],
   "source": [
    "## 1. Setup\n",
    "\n",
    "Imports needed for this tutorial."
   ]
  },
  {
   "cell_type": "code",
   "metadata": {},
   "outputs": [],
   "source": [
    "from deeptrack.scatterers import PointParticle\n",
    "from deeptrack.optics import OpticalDevice\n",
    "from deeptrack.noises import Poisson, Offset\n",
    "from deeptrack.generators import Generator\n",
    "from deeptrack.models import unet\n",
    "from deeptrack.losses import weighted_crossentropy, sigmoid, flatten\n",
    "\n",
    "import numpy as np\n",
    "import matplotlib.pyplot as plt"
   ]
  },
  {
   "cell_type": "markdown",
   "metadata": {},
   "outputs": [],
   "source": [
    "## 2. Define the particle\n",
    "\n",
    "For this example, we consider point particles (i.e. point light scatterers). A point particle is an instance of the class PointParticle, defined by its intensity and its position. Here, the position is randomized by using a lambda function. More details can be found in the tutorial [tracking_point_particle](tracking_point_particle.ipynb)."
   ]
  },
  {
   "cell_type": "code",
   "metadata": {},
   "outputs": [],
   "source": [
    "particle = PointParticle(                                         \n",
    "    intensity=100,\n",
    "    position=lambda: np.random.rand(2) * 256,\n",
    "    position_unit=\"pixel\"\n",
    ")"
   ]
  },
  {
   "cell_type": "markdown",
   "metadata": {},
   "outputs": [],
   "source": [
    "## 3. Define the optics \n",
    "\n",
    "Next, we need to define the properties of the optical system. This is done using an instance of the class Optics, which takes a set of light scatterers (particles) and convolves them with the pupil function (point spread function) of the optical system. More details can be found in the tutorial [tracking_point_particle](tracking_point_particle.ipynb)."
   ]
  },
  {
   "cell_type": "code",
   "metadata": {},
   "outputs": [],
   "source": [
    "Optics = OpticalDevice(\n",
    "    NA=0.7,                \n",
    "    pixel_size=0.1e-6,     \n",
    "    wavelength=680e-9\n",
    ")"
   ]
  },
  {
   "cell_type": "markdown",
   "metadata": {},
   "outputs": [],
   "source": [
    "## 4. Define noises\n",
    "\n",
    "We introduce two sources of noise:\n",
    "1. A Poisson noise with SNR between 10 and 30.\n",
    "2. A background offset between 0 and 20."
   ]
  },
  {
   "cell_type": "code",
   "metadata": {},
   "outputs": [],
   "source": [
    "poisson_noise = Poisson(\n",
    "    snr=np.linspace(30,50)\n",
    ")\n",
    "\n",
    "offset = Offset(\n",
    "    offset=lambda: np.random.rand()*20\n",
    ")"
   ]
  },
  {
   "cell_type": "markdown",
   "metadata": {},
   "outputs": [],
   "source": [
    "## 5. Define the image features\n",
    "\n",
    "We want images with a random number of particles between 1 and 10, a background offset, and Poisson noise."
   ]
  },
  {
   "cell_type": "code",
   "metadata": {},
   "outputs": [],
   "source": [
    "num_particles = np.random.randint(1,11)\n",
    "\n",
    "image_features = Optics(particle**num_particles + offset) + poisson_noise"
   ]
  },
  {
   "cell_type": "markdown",
   "metadata": {},
   "outputs": [],
   "source": [
    "## 6. Plot example images\n",
    "\n",
    "Now, we visualize some example images. At each iteration, we call the method `.update()` to refresh the random features in the image (particle number, particle position, offset level, and Poisson noise). Afterwards we call the method `.plot((256, 256))` to generate the image, where `(256, 256)` defines the size of the image and the input image is implicitly set to `np.zeros((256, 256))`."
   ]
  },
  {
   "cell_type": "code",
   "metadata": {},
   "outputs": [],
   "source": [
    "for i in range(4):\n",
    "    image_features.update()\n",
    "    output_image = image_features.plot((256,256), cmap=\"gray\")"
   ]
  },
  {
   "cell_type": "markdown",
   "metadata": {},
   "outputs": [],
   "source": [
    "## 7. Create the target images\n",
    "\n",
    "We define a function that uses the generated images to create the target images to be used in the training. We also show images and targets side by side."
   ]
  },
  {
   "cell_type": "code",
   "metadata": {},
   "outputs": [],
   "source": [
    "# Creates an image with circles of radius two at the same position \n",
    "# as the particles in the input image.\n",
    "def get_target_image(image_of_particles):\n",
    "    label = np.zeros(image_of_particles.shape)\n",
    "    X, Y = np.meshgrid(\n",
    "        np.arange(0, image_of_particles.shape[0]), \n",
    "        np.arange(0, image_of_particles.shape[1])\n",
    "    )\n",
    "\n",
    "    for property in image_of_particles.properties:\n",
    "        if property[\"name\"] == \"PointParticle\":\n",
    "            position = property[\"position\"]\n",
    "\n",
    "            distance_map = (X - position[0])**2 + (Y - position[1])**2\n",
    "            label[distance_map < 4] = 1\n",
    "    \n",
    "    return np.expand_dims(label,axis=-1)\n",
    "\n",
    "\n",
    "input_image = np.zeros((256,256))\n",
    "for i in range(4):\n",
    "    image_features.update()\n",
    "    image_of_particles = image_features.resolve(input_image)\n",
    "\n",
    "    target_image = get_target_image(image_of_particles)\n",
    "\n",
    "    plt.subplot(1,2,1)\n",
    "    plt.imshow(image_of_particles, cmap=\"gray\")\n",
    "    plt.title(\"Input Image\")\n",
    "    plt.subplot(1,2,2)\n",
    "    plt.imshow(target_image[:,:,0], cmap=\"gray\")\n",
    "    plt.title(\"Ground Truth\")\n",
    "    plt.show()"
   ]
  },
  {
   "cell_type": "markdown",
   "metadata": {},
   "outputs": [],
   "source": [
    "## 8. Define image generator\n",
    "\n",
    "We define a generator that creates images and targets of shape (256, 256) and in batches of 8."
   ]
  },
  {
   "cell_type": "code",
   "metadata": {},
   "outputs": [],
   "source": [
    "generator = Generator().generate(\n",
    "    image_features, \n",
    "    get_target_image, \n",
    "    shape=(256, 256), \n",
    "    batch_size=8\n",
    ")"
   ]
  },
  {
   "cell_type": "markdown",
   "metadata": {},
   "outputs": [],
   "source": [
    "## 9. Define the neural network model\n",
    "\n",
    "The neural network architecture used is a U-Net, which is a fully convoltional model used for image to image transformations. Since the desired output is a binary image, we will be using crossentropy as loss. However, since target image is disproportionaly populated by 0s (any pixel is much more likely to be a zero than a one), we weight the loss such that false negatives are penalized ten times more than false positives. "
   ]
  },
  {
   "cell_type": "code",
   "metadata": {},
   "outputs": [],
   "source": [
    "model = unet(\n",
    "    (256, 256, 1), \n",
    "    conv_layers_dimensions=[8, 16, 32],\n",
    "    base_conv_layers_dimensions=[32, 32], \n",
    "    loss=flatten(weighted_crossentropy((10, 1)))\n",
    ")"
   ]
  },
  {
   "cell_type": "markdown",
   "metadata": {},
   "outputs": [],
   "source": [
    "## 10. Train the model\n",
    "\n",
    "The model is trained by calling `.fit()`."
   ]
  },
  {
   "cell_type": "code",
   "metadata": {},
   "outputs": [],
   "source": [
    "model.fit(\n",
    "    generator, \n",
    "    epochs=50, \n",
    "    steps_per_epoch=20\n",
    ")"
   ]
  },
  {
   "cell_type": "markdown",
   "metadata": {},
   "outputs": [],
   "source": [
    "## 11. Visualize the model performance\n",
    "\n",
    "Finally we evaluate the model performance by showing the model output besides the input image and the ground truth."
   ]
  },
  {
   "cell_type": "code",
   "metadata": {},
   "outputs": [],
   "source": [
    "input_image, target_image = next(generator)\n",
    "\n",
    "for i in range(input_image.shape[0]):\n",
    "    \n",
    "    predicted_image = model.predict(input_image)\n",
    "    \n",
    "    plt.subplot(1,3,1)\n",
    "    plt.imshow(np.squeeze(input_image[i, :, :, 0]), cmap=\"gray\")\n",
    "    plt.title(\"Input Image\")\n",
    "\n",
    "    plt.subplot(1,3,2)\n",
    "    plt.imshow(np.squeeze(predicted_image[i, :, :, 0]), cmap=\"gray\")\n",
    "    plt.title(\"Predicted Image\")\n",
    "    \n",
    "    plt.subplot(1,3,3)\n",
    "    plt.imshow(np.squeeze(target_image[i, :, :, 0] > 0.5), cmap=\"gray\")\n",
    "    plt.title(\"Ground Truth\")\n",
    "\n",
    "    plt.show()"
   ]
  }
 ],
 "metadata": {
  "kernelspec": {
   "display_name": "Python 3",
   "language": "python",
   "name": "python3"
  },
  "language_info": {
   "codemirror_mode": {
    "name": "ipython",
    "version": 3
   },
   "file_extension": ".py",
   "mimetype": "text/x-python",
   "name": "python",
   "nbconvert_exporter": "python",
   "pygments_lexer": "ipython3",
   "version": "3.6.7"
  }
 },
 "nbformat": 4,
 "nbformat_minor": 2
}