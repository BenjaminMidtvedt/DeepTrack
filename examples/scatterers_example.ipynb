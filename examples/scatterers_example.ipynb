{
 "cells": [
  {
   "cell_type": "code",
   "execution_count": null,
   "metadata": {},
   "outputs": [],
   "source": [
    "%matplotlib inline\n",
    "import sys\n",
    "sys.path.append(\"..\") # Adds the module to path"
   ]
  },
  {
   "cell_type": "markdown",
   "metadata": {},
   "source": [
    "# deeptrack.scatterers\n",
    "\n",
    "This notebook introduces the module deeptrack.scatterers"
   ]
  },
  {
   "cell_type": "markdown",
   "metadata": {},
   "source": [
    "## What is a scatterer?\n",
    "\n",
    "Scatterers are implementations of the abstract class `Feature` that respresent the complex field at each pixel (see also [features_example](features_example.ipynb)). \n",
    "\n",
    "All physcial properties of scatterers are given in SI units, unless otherwise stated. In particualr, the position of a scatterer is measured from the top left corner and can either be given in meters (default) or pixels by setting the property `position_unit` to `\"meter\"` or `\"pixel\"`.\n",
    "\n",
    "All scatterers need a reference to the optical system the scatterers are viewed through to calculate scale factors. This is achieved by calling an optical device from the `optics` module (see also [optics_example](optics_example.ipynb)) with the scatterer. \n",
    "\n",
    "<font color='red'>#TODO: explain in detail why the position is not at pixels (32, 32). Maybe, it'd be good to add an explanation how it's calculated in this specific case?</font>"
   ]
  },
  {
   "cell_type": "code",
   "execution_count": null,
   "metadata": {},
   "outputs": [],
   "source": [
    "from deeptrack.optics import Fluorescence\n",
    "from deeptrack.scatterers import PointParticle\n",
    "\n",
    "import numpy as np\n",
    "import matplotlib.pyplot as plt\n",
    "\n",
    "optics = Fluorescence(\n",
    "    NA=0.7,\n",
    "    wavelength=680e-9,\n",
    "    resolution=1e-6,\n",
    "    magnification=10,\n",
    "    output_region=(0, 0, 64, 64)\n",
    ")\n",
    "\n",
    "scatterer = PointParticle(\n",
    "    intensity=100,          # Squared magnitude of the field. \n",
    "    position_unit=\"pixel\",  # Units of position (default meter)\n",
    "    position=(32, 32)       # Position of the particle\n",
    ")\n",
    "\n",
    "\n",
    "imaged_scatterer = optics(scatterer)\n",
    "\n",
    "imaged_scatterer.plot()"
   ]
  },
  {
   "cell_type": "code",
   "execution_count": null,
   "metadata": {},
   "outputs": [],
   "source": []
  }
 ],
 "metadata": {
  "kernelspec": {
   "display_name": "Python 3",
   "language": "python",
   "name": "python3"
  },
  "language_info": {
   "codemirror_mode": {
    "name": "ipython",
    "version": 3
   },
   "file_extension": ".py",
   "mimetype": "text/x-python",
   "name": "python",
   "nbconvert_exporter": "python",
   "pygments_lexer": "ipython3",
   "version": "3.6.7"
  }
 },
 "nbformat": 4,
 "nbformat_minor": 2
}
