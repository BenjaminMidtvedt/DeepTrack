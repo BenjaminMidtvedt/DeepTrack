{
 "cells": [
  {
   "cell_type": "code",
   "execution_count": null,
   "metadata": {},
   "outputs": [],
   "source": [
    "import sys\n",
    "sys.path.append(\"..\") # Adds the module to path"
   ]
  },
  {
   "cell_type": "markdown",
   "metadata": {},
   "source": [
    "# DeepTrack.properties\n",
    "\n",
    "This notebook introduces DeepTrack.properties.\n",
    "\n",
    "## What is a property?\n",
    "\n",
    "Each feature (instance of the class Feature) can have several properties (instances of the class Property).\n",
    "A propety has a value accessible through the `current_value` field, whose data type is not genrally restricted. \n",
    "This value is updated through a sampling rule (method `update()`), which is passed to the class constructor on initialization. \n",
    "\n",
    "## What is a sampling rule?\n",
    "\n",
    "The sampling rule determines how the value of a property is updated upon calling `update()`.\n",
    "A sampling rule is defined when an instance of the class Property is created and can be of any type. \n",
    "When calling `update()`, the value of the property is updated according to first the following that applies:\n",
    "    \n",
    "1.  If the sampling rule has a method `sample()`, call `sample()` and return the output.\n",
    "2.  If the sampling rule is a dictionary, create an exact copy of the dictionary and substitute\n",
    "    any value that has a `sample()` method with the result of the call to this method.\n",
    "3.  If the sampling rule is either a ``list`` or a 1-dimensional ``ndarray``, extract one element randomly.\n",
    "4.  If the sampling rule is an iterable, return the next value.\n",
    "5.  If the sampling rule is callable, call it with no arguments and return the result.\n",
    "6.  If none of the above apply, return the sampling rule itself."
   ]
  },
  {
   "cell_type": "code",
   "execution_count": null,
   "metadata": {},
   "outputs": [],
   "source": [
    "from DeepTrack.properties import Property"
   ]
  },
  {
   "cell_type": "markdown",
   "metadata": {},
   "source": [
    "### 1 - Property with constant value\n",
    "\n",
    "The simplest example of a property is one that does not change during an update call.\n",
    "This is commonly either a number or a tuple, but can be any data type that will be evaluated by case 6.\n",
    "If you want to have a constant property with a value that would be evaluated by cases 1-5 (e.g., a list or a function), you can  wrap it as the output of a lambda function."
   ]
  },
  {
   "cell_type": "code",
   "execution_count": null,
   "metadata": {},
   "outputs": [],
   "source": [
    "P = Property(1)\n",
    "print() P.current_value)\n",
    "P.update()\n",
    "print(P.current_value) # Numbers are constant over update() calls\n",
    "\n",
    "# TODO: tuple\n",
    "\n",
    "# TODO: list"
   ]
  },
  {
   "cell_type": "markdown",
   "metadata": {},
   "source": [
    "### 1)  Discrete random variable\n",
    "\n",
    "Discrete randomness can be achieved by either a list, a 1-dimensional ndarray or a function. For lists and ndarrays,\n",
    "the output is uniformly sampled among the elements. For non-uniform sampling, either use lists with repeated elements, \n",
    "or a function. "
   ]
  },
  {
   "cell_type": "code",
   "execution_count": null,
   "metadata": {},
   "outputs": [],
   "source": [
    "P = Property([1, 2, 3])\n",
    "print([P.update().current_value for _ in range(10)])"
   ]
  },
  {
   "cell_type": "markdown",
   "metadata": {},
   "source": []
  },
  {
   "cell_type": "code",
   "execution_count": null,
   "metadata": {},
   "outputs": [],
   "source": []
  },
  {
   "cell_type": "code",
   "execution_count": null,
   "metadata": {},
   "outputs": [],
   "source": []
  }
 ],
 "metadata": {
  "file_extension": ".py",
  "kernelspec": {
   "display_name": "Python 3",
   "language": "python",
   "name": "python3"
  },
  "language_info": {
   "codemirror_mode": {
    "name": "ipython",
    "version": 3
   },
   "file_extension": ".py",
   "mimetype": "text/x-python",
   "name": "python",
   "nbconvert_exporter": "python",
   "pygments_lexer": "ipython3",
   "version": "3.7.3"
  },
  "mimetype": "text/x-python",
  "name": "python",
  "npconvert_exporter": "python",
  "pygments_lexer": "ipython3",
  "version": 3
 },
 "nbformat": 4,
 "nbformat_minor": 2
}
