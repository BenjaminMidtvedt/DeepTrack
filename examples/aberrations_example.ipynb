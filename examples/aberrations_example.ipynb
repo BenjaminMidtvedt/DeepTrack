{
 "cells": [
  {
   "cell_type": "code",
   "execution_count": 2,
   "metadata": {},
   "outputs": [],
   "source": [
    "%matplotlib inline\n",
    "import sys\n",
    "sys.path.append(\"..\") # Adds the module to path"
   ]
  },
  {
   "cell_type": "markdown",
   "metadata": {},
   "source": [
    "# deeptrack.aberrations\n",
    "\n",
    "This notebook introduces the module deeptrack.aberrations."
   ]
  },
  {
   "cell_type": "markdown",
   "metadata": {},
   "source": [
    "## 1. What is an aberration?\n",
    "\n",
    "\n",
    "\n",
    "Aberrations are some alteration of the pupil function of an optical system. They receive the complex pupil function in the fourier space. The method `.get()` may optionally receive the the position of each pixel in polar coordinates through the keyword arguments `rho` and `theta`. \n",
    "\n",
    "The feature, or set of features, is passed to the optical system on initilization through the `aberration` keyword.\n"
   ]
  },
  {
   "cell_type": "markdown",
   "metadata": {},
   "source": [
    "## 2. Example of an aberration\n",
    "\n",
    "Below is the implementation of the feature GaussianApodization. It scales the amplitude of the pupil as a function of the distance from the central pixel."
   ]
  },
  {
   "cell_type": "code",
   "execution_count": 3,
   "metadata": {},
   "outputs": [],
   "source": [
    "import numpy as np\n",
    "from deeptrack.aberrations import Aberration\n",
    "\n",
    "# Implementation of abstract class Aberration\n",
    "# which decreases the amplitude of the pupil at high frequencies.\n",
    "class GaussianApodization(Aberration):\n",
    "    def get(self, pupil, sigma=1, rho=None, **kwargs):\n",
    "        return pupil * np.exp(-(rho / sigma) ** 2) "
   ]
  },
  {
   "cell_type": "markdown",
   "metadata": {},
   "source": [
    "## 3. Aberrations in use\n",
    "\n",
    "Here we show aberrations in use. We study the point spread function depending on the apodization."
   ]
  },
  {
   "cell_type": "code",
   "execution_count": 36,
   "metadata": {},
   "outputs": [],
   "source": [
    "from deeptrack.scatterers import PointParticle\n",
    "from deeptrack.optics import Fluorescence\n",
    "\n",
    "particle = PointParticle(\n",
    "    position=(32, 32),\n",
    "    position_unit=\"pixel\",\n",
    "    intensity=1\n",
    ")\n",
    "\n",
    "unaberrated_optics = Fluorescence(\n",
    "    NA = 0.3,\n",
    "    resolution=1e-6,\n",
    "    magnification=10,\n",
    "    wavelength=530e-9,\n",
    "    output_region=(0, 0, 64, 64)\n",
    ")\n",
    "\n",
    "aberrated_optics = Fluorescence(\n",
    "    NA = 0.3,\n",
    "    resolution=1e-6,\n",
    "    magnification=10,\n",
    "    wavelength=530e-9,\n",
    "    output_region=(0, 0, 64, 64),\n",
    "    aberration = GaussianApodization(sigma=0.5)\n",
    ")"
   ]
  },
  {
   "cell_type": "code",
   "execution_count": 37,
   "metadata": {},
   "outputs": [],
   "source": [
    "unaberrated_particle = unaberrated_optics(particle)\n",
    "aberrated_particle = aberrated_optics(particle)"
   ]
  },
  {
   "cell_type": "code",
   "execution_count": 38,
   "metadata": {},
   "outputs": [
    {
     "data": {
      "image/png": "[encoded data removed]",
      "text/plain": [
       "<Figure size 432x288 with 1 Axes>"
      ]
     },
     "metadata": {
      "needs_background": "light"
     },
     "output_type": "display_data"
    },
    {
     "data": {
      "image/png": "[encoded data removed]",
      "text/plain": [
       "<Figure size 432x288 with 1 Axes>"
      ]
     },
     "metadata": {
      "needs_background": "light"
     },
     "output_type": "display_data"
    }
   ],
   "source": [
    "unaberrated_particle.plot()\n",
    "aberrated_particle.plot()"
   ]
  }
 ],
 "metadata": {
  "kernelspec": {
   "display_name": "Python 3",
   "language": "python",
   "name": "python3"
  },
  "language_info": {
   "codemirror_mode": {
    "name": "ipython",
    "version": 3
   },
   "file_extension": ".py",
   "mimetype": "text/x-python",
   "name": "python",
   "nbconvert_exporter": "python",
   "pygments_lexer": "ipython3",
   "version": "3.6.7"
  }
 },
 "nbformat": 4,
 "nbformat_minor": 2
}
