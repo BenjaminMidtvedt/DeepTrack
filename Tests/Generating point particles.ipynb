{
 "cells": [
  {
   "cell_type": "markdown",
   "metadata": {},
   "source": [
    "# DeepTrack - Generating point particles\n",
    "\n",
    "This notebook will demonstrate how to easily generate point particles and define custom features.\n",
    "\n",
    "\n",
    "## Setup\n",
    "\n",
    "Top level code includes the import statement of the classes we will need, as well as adding the path of the DeepTrack module to out path. This last step is only needed if the module is downloaded through git instead of installed as a package."
   ]
  },
  {
   "cell_type": "code",
   "execution_count": 21,
   "metadata": {},
   "outputs": [],
   "source": [
    "import sys\n",
    "sys.path.append(\"..\") # This adds the DeepTrack module to our path.\n",
    "\n",
    "from DeepTrack.Generators import Generator\n",
    "from DeepTrack.Particles import PointParticle\n",
    "from DeepTrack.Optics import BaseOpticalDevice2D\n",
    "\n",
    "import numpy as np\n",
    "import matplotlib.pyplot as plt"
   ]
  },
  {
   "cell_type": "markdown",
   "metadata": {},
   "source": [
    "## Creating the generator\n",
    "\n",
    "The generator is the interface between the network and the image creation. It requires no input to be created."
   ]
  },
  {
   "cell_type": "code",
   "execution_count": 22,
   "metadata": {},
   "outputs": [],
   "source": [
    "G = Generator()"
   ]
  },
  {
   "cell_type": "markdown",
   "metadata": {},
   "source": [
    "## Defining the optics \n",
    "\n",
    "To image an object we need to define the properties of the optical system. This is done using an Optics instance. The role of the Optics instance is to take a number of light sources and correctly convolve them with the pupil function. It also handles summing multiple light sources correctly.\n",
    "\n",
    "As of writing this, the optics is controlled by the following parameters:\n",
    "\n",
    "* NA: The NA of the limiting aperature\n",
    "\n",
    "* wavelength: The wavelength of the lightsource (m)\n",
    "\n",
    "* pixel_size: The pixel to meter conversion factor\n",
    "\n",
    "* mode: \"coherent\" vs \"incoherent\", models the light emitted by a object\n",
    "\n",
    "* ROI: Specifies the region of the field that is imaged. Useful for avoiding wrap-around effects when doing fourier tranforms\n",
    "\n",
    "* upscale: How far to upscale the generated pupil-function. This is a cheap way to increase output accuracy."
   ]
  },
  {
   "cell_type": "code",
   "execution_count": 23,
   "metadata": {},
   "outputs": [],
   "source": [
    "Optics = BaseOpticalDevice2D(\n",
    "    NA=0.7,                \n",
    "    pixel_size=0.1e-6,     \n",
    "    wavelength=0.68e-6     \n",
    ")"
   ]
  },
  {
   "cell_type": "markdown",
   "metadata": {},
   "source": [
    "## Defining the image\n",
    "\n",
    "The generator takes a set of features, which are rules for generating an image, and creates an Image instance.\n",
    "\n",
    "In this case we a single object, or feature, a particle. The particle object, for instance, contain all the information needed to image a random instance of that particle. This randomization may include properties such as its position or its intensity, and is determined by input parameters.\n",
    "\n",
    "A simple point particle, or a point source, is entirely defined by its intensity and its position."
   ]
  },
  {
   "cell_type": "code",
   "execution_count": 24,
   "metadata": {},
   "outputs": [],
   "source": [
    "P = PointParticle(                                         \n",
    "    intensity=100,\n",
    "    position=(32,32,0)\n",
    ")"
   ]
  },
  {
   "cell_type": "markdown",
   "metadata": {},
   "source": [
    "## Generating the image\n",
    "\n",
    "Finally, we have everything needed to create an image! This is done using the class method `Generator.get`. This returns an Image object. This behaves exactly like a normal numpy ndarray, just additionally storing the properties used to generating the image as a list of dicts. More on this later"
   ]
  },
  {
   "cell_type": "code",
   "execution_count": 25,
   "metadata": {},
   "outputs": [
    {
     "data": {
      "image/png": "[encoded data removed]",
      "text/plain": [
       "<Figure size 432x288 with 1 Axes>"
      ]
     },
     "metadata": {
      "needs_background": "light"
     },
     "output_type": "display_data"
    }
   ],
   "source": [
    "Image = G.get((64,64), Optics(P))\n",
    "plt.gray()\n",
    "plt.imshow(Image)\n",
    "plt.show()"
   ]
  },
  {
   "cell_type": "markdown",
   "metadata": {},
   "source": [
    "## More features\n",
    "\n",
    "That's neat and all, but how do we do something more complicated? By adding features together! Let us add a second particle. "
   ]
  },
  {
   "cell_type": "code",
   "execution_count": 26,
   "metadata": {},
   "outputs": [
    {
     "data": {
      "image/png": "[encoded data removed]",
      "text/plain": [
       "<Figure size 432x288 with 1 Axes>"
      ]
     },
     "metadata": {
      "needs_background": "light"
     },
     "output_type": "display_data"
    }
   ],
   "source": [
    "P2 = PointParticle(\n",
    "    intensity=100,\n",
    "    position=(38,38,0)\n",
    ")\n",
    "\n",
    "Image = G.get((64,64),Optics(P + P2))\n",
    "plt.gray()\n",
    "plt.imshow(Image)\n",
    "plt.show()"
   ]
  },
  {
   "cell_type": "markdown",
   "metadata": {},
   "source": [
    "## Creating your own feature\n",
    "\n",
    "Creating your own custom feature is easy! Let's define our own custom noise. For a feature that is not wrapped inside a Optics() call, you only need to define a single method: get(). Let's create a GaussianNoise class that adds Gaussion noise to the image. Then we'll try to understand what happens in the backend."
   ]
  },
  {
   "cell_type": "code",
   "execution_count": 17,
   "metadata": {},
   "outputs": [],
   "source": [
    "from DeepTrack.Features import Feature\n",
    "\n",
    "class GaussianNoise(Feature):\n",
    "    def get(self, shape, Image, mu=0, sigma=1, **kwargs):\n",
    "        mu =    np.ones(shape) * mu\n",
    "        sigma = np.ones(shape) * sigma\n",
    "        return Image + np.random.normal(mu, sigma)"
   ]
  },
  {
   "cell_type": "markdown",
   "metadata": {},
   "source": [
    "## Understanding how it works\n",
    "\n",
    "### What are the inputs?\n",
    "The get function seems to have two non-keyword arguments, and at least two keyword arguments. The first is shape, this is the desired output shape of the image. The second argument is Image, which is the current image upon which you add your feature. Passing it through the get function allows for non-additive features, such as poisson noise. \n",
    "\n",
    "The keyword arguments are harder to understand at first. mu and sigma seems like reasonable arguments for gaussian noise, but how does it know to recieve those arguments? Where are they defined? They are defined when you create an instance of the class! Every keyword argument that is passed through the Feature constructor is added to an attribut called __properties__. When get is called, a \"smart copy\" of the __properties__ field is sent to the get function. This allows the backend Feature class to handle how these properties are updated and evolve over time.\n",
    "\n",
    "To make this a little bit more clear, let's add a __init__ function."
   ]
  },
  {
   "cell_type": "code",
   "execution_count": 27,
   "metadata": {},
   "outputs": [],
   "source": [
    "class GaussianNoise(Feature):\n",
    "    \n",
    "    def __init__(self, mu=0, sigma=1, **kwargs):\n",
    "        super().__init__(mu=mu, sigma=sigma, **kwargs)\n",
    "        \n",
    "    def get(self, shape, Image, mu=0, sigma=1, **kwargs):\n",
    "        mu =    np.ones(shape) * mu\n",
    "        sigma = np.ones(shape) * sigma\n",
    "        return Image + np.random.normal(mu, sigma)"
   ]
  },
  {
   "cell_type": "markdown",
   "metadata": {},
   "source": [
    "Note that this definition is almost exactly equivalent to the first definition. In fact, very rarely is the __init__ contructor needed. The only difference here, is that mu and sigma is guaranteed to be in the __properties__ field. This may be important due to a second function of the __properties__ field. Whenever an image is generated through a Feature.get() call, a dict is added to a list which contains information about how the image was generated. This dict is an exact copy of the \"smart copy\" of the __properties__ field. By guaranteeing that mu and sigma is in the __properties__ field, you also guarantee that it is added to this list of properties.\n",
    "\n",
    "Now we can generate an image with added noise!"
   ]
  },
  {
   "cell_type": "code",
   "execution_count": 28,
   "metadata": {},
   "outputs": [
    {
     "data": {
      "image/png": "[encoded data removed]",
      "text/plain": [
       "<Figure size 432x288 with 1 Axes>"
      ]
     },
     "metadata": {
      "needs_background": "light"
     },
     "output_type": "display_data"
    }
   ],
   "source": [
    "N = GaussianNoise(mu=0, sigma=0.01)\n",
    "\n",
    "Image = G.get((64,64),Optics(P) + N)\n",
    "plt.gray()\n",
    "plt.imshow(Image)\n",
    "plt.show()"
   ]
  }
 ],
 "metadata": {
  "file_extension": ".py",
  "kernelspec": {
   "display_name": "Python 3",
   "language": "python",
   "name": "python3"
  },
  "language_info": {
   "codemirror_mode": {
    "name": "ipython",
    "version": 3
   },
   "file_extension": ".py",
   "mimetype": "text/x-python",
   "name": "python",
   "nbconvert_exporter": "python",
   "pygments_lexer": "ipython3",
   "version": "3.6.7"
  },
  "mimetype": "text/x-python",
  "name": "python",
  "npconvert_exporter": "python",
  "pygments_lexer": "ipython3",
  "version": 3
 },
 "nbformat": 4,
 "nbformat_minor": 2
}
