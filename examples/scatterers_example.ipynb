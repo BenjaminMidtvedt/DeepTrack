{
 "cells": [
  {
   "cell_type": "code",
   "execution_count": 1,
   "metadata": {},
   "outputs": [],
   "source": [
    "%matplotlib inline\n",
    "import sys\n",
    "sys.path.append(\"..\") # Adds the module to path"
   ]
  },
  {
   "cell_type": "markdown",
   "metadata": {},
   "source": [
    "# deeptrack.scatterers\n",
    "\n",
    "This notebook introduces the module deeptrack.scatterers"
   ]
  },
  {
   "cell_type": "markdown",
   "metadata": {},
   "source": [
    "## What is a scatterer?\n",
    "\n",
    "Scatterers are implementations of the abstract class Feature that respresent the complex field at each pixel. All physcial properties of scatterers are given in SI units. The position of a scatterer is measured from the top left corner and can either be given in pixels or meters by setting the property `position_unit` to `\"pixel\"` or `\"meter\"`, but defaults to meters.\n",
    "\n",
    "All scatterers need a reference to the optical system the scatterers are viewed through to calculate scale factors. This is achieved by calling an optical device from the [optics](optics_example.ipynb) module with the scatterer. "
   ]
  },
  {
   "cell_type": "code",
   "execution_count": 5,
   "metadata": {},
   "outputs": [
    {
     "data": {
      "image/png": "[encoded data removed]",
      "text/plain": [
       "<Figure size 432x288 with 1 Axes>"
      ]
     },
     "metadata": {
      "needs_background": "light"
     },
     "output_type": "display_data"
    }
   ],
   "source": [
    "from deeptrack.optics import OpticalDevice\n",
    "from deeptrack.scatterers import PointParticle\n",
    "\n",
    "import numpy as np\n",
    "import matplotlib.pyplot as plt\n",
    "\n",
    "optics = OpticalDevice(\n",
    "    NA=0.7,\n",
    "    wavelength=680e-9,\n",
    "    pixel_size=100e-9\n",
    ")\n",
    "\n",
    "scatterer = PointParticle(\n",
    "    intensity=100,        # Squared magnitude of the field. \n",
    "    position=(32, 32),    # Position of the particle\n",
    "    position_unit=\"pixel\" # Scale of the position keyword, default meter\n",
    ")\n",
    "\n",
    "\n",
    "imaged_scatterer = optics(scatterer)\n",
    "\n",
    "input_image = np.zeros((64, 64))\n",
    "output_image = imaged_scatterer.resolve(input_image)\n",
    "\n",
    "plt.imshow(output_image)\n",
    "plt.show()\n"
   ]
  },
  {
   "cell_type": "markdown",
   "metadata": {},
   "source": [
    "This also convolves the scatterer with the pupil function of the optical device. To resolve a scatterer without convolving it with a pupil function, the optical properties can be passed as inputs to the constructor, or as keyword arguments in the resolve call."
   ]
  },
  {
   "cell_type": "code",
   "execution_count": 6,
   "metadata": {},
   "outputs": [
    {
     "data": {
      "image/png": "[encoded data removed]",
      "text/plain": [
       "<Figure size 432x288 with 1 Axes>"
      ]
     },
     "metadata": {
      "needs_background": "light"
     },
     "output_type": "display_data"
    }
   ],
   "source": [
    "scatterer = PointParticle(\n",
    "    intensity=100,\n",
    "    position=(3.2e-6, 3.2e-6),\n",
    "    position_unit=\"meter\",\n",
    "    pixel_size=100e-9\n",
    ")\n",
    "\n",
    "output_image = scatterer.resolve(input_image)\n",
    "\n",
    "plt.imshow(output_image)\n",
    "plt.show()"
   ]
  },
  {
   "cell_type": "code",
   "execution_count": 7,
   "metadata": {},
   "outputs": [
    {
     "data": {
      "image/png": "[encoded data removed]",
      "text/plain": [
       "<Figure size 432x288 with 1 Axes>"
      ]
     },
     "metadata": {
      "needs_background": "light"
     },
     "output_type": "display_data"
    }
   ],
   "source": [
    "scatterer = PointParticle(\n",
    "    intensity=100,\n",
    "    position=(3.2e-6, 3.2e-6),\n",
    "    position_unit=\"meter\",\n",
    ")\n",
    "\n",
    "output_image = scatterer.resolve(input_image, pixel_size=100e-9)\n",
    "\n",
    "plt.imshow(output_image)\n",
    "plt.show()"
   ]
  }
 ],
 "metadata": {
  "kernelspec": {
   "display_name": "Python 3",
   "language": "python",
   "name": "python3"
  },
  "language_info": {
   "codemirror_mode": {
    "name": "ipython",
    "version": 3
   },
   "file_extension": ".py",
   "mimetype": "text/x-python",
   "name": "python",
   "nbconvert_exporter": "python",
   "pygments_lexer": "ipython3",
   "version": "3.6.7"
  }
 },
 "nbformat": 4,
 "nbformat_minor": 2
}
