{
 "cells": [
  {
   "cell_type": "code",
   "execution_count": 2,
   "metadata": {},
   "outputs": [],
   "source": [
    "%matplotlib inline\n",
    "import sys\n",
    "sys.path.append(\"..\") # Adds the module to path"
   ]
  },
  {
   "cell_type": "markdown",
   "metadata": {},
   "source": [
    "# DeepTrack.features\n",
    "\n",
    "This notebook introduces the module DeepTrack.features.\n",
    "\n",
    "## What is a feature?\n",
    "\n",
    "Features are instances of the abstract class `Feature` and are responsible for modifying images. For example, a feature might add the image of a particle or add some salt-and-pepper noise. Features are instances of the abstract class `Feature` and are responsible for modifying images. For example, a feature might add the image of a particle or add some salt-and-pepper noise. \n",
    "\n",
    "Each implementation of the class `Feature` needs to define a method `get(image, **kwargs)`, which takes an image as an input and returns an updated image. This can be additive, such as adding a particle or Gaussian noise, or non-additive, such as introducing Poisson noise or performing a low-pass filter. The image that is modified is in itself an instance of the class Image, which for now can be thought of as a numpy ndarray.\n",
    "\n",
    "When a feature is created, keyword arguments can be passed to its constructor. These arguments are stored as [properties](properties_example.ipynb) (as a PropertyDict) of the feature, which determine how the feature is resolved. When a feature is updated using the method `update()`, all of the properties are updated as well by calling their respective methods `update()`. When a feature is resolved using the method `resolve(image)`, the current values of all properties are sent through the method `get(image, **kwargs)` as keyword arguments."
   ]
  },
  {
   "cell_type": "code",
   "execution_count": 11,
   "metadata": {},
   "outputs": [
    {
     "name": "stdout",
     "output_type": "stream",
     "text": [
      "The current value of my_property is 1\n",
      "The current value of my_property is bar\n",
      "The current value of my_property is None\n"
     ]
    }
   ],
   "source": [
    "import numpy as np\n",
    "\n",
    "from DeepTrack.features import Feature\n",
    "from DeepTrack.Image import Image\n",
    "\n",
    "# Implementation of abstract class Feature \n",
    "# that does not alter the image \n",
    "# and prints the current value of my_property\n",
    "class Foo(Feature):\n",
    "    def get(self, image, my_property=None):\n",
    "        print(\"The current value of my_property is\", my_property) # the current value of my_property is passed to the get function\n",
    "        return image\n",
    "\n",
    "input_image = Image([])\n",
    "\n",
    "foo1 = Foo(my_property=1)\n",
    "output_image = foo1.resolve(input_image)\n",
    "\n",
    "foo2 = Foo(my_property=\"bar\")\n",
    "output_image = foo2.resolve(input_image)\n",
    "\n",
    "foo3 = Foo()\n",
    "output_image = foo3.resolve(input_image)"
   ]
  },
  {
   "cell_type": "markdown",
   "metadata": {},
   "source": [
    "Since the values are stored as instances of Property, you can always replace values with standard structures such as lists or lambda functions to create more complicated behaviors"
   ]
  },
  {
   "cell_type": "code",
   "execution_count": 13,
   "metadata": {},
   "outputs": [
    {
     "name": "stdout",
     "output_type": "stream",
     "text": [
      "The current value of my_property is -0.02783904724600217\n",
      "The current value of my_property is baz\n"
     ]
    }
   ],
   "source": [
    "foo4 = Foo(my_property=lambda: np.random.rand() - 0.5)\n",
    "output_image = foo4.resolve(input_image)\n",
    "\n",
    "foo5 = Foo(my_property=[\"bar\", \"baz\"])\n",
    "output_image = foo5.resolve(input_image)"
   ]
  },
  {
   "cell_type": "markdown",
   "metadata": {},
   "source": [
    "## Operations defined on features\n",
    "\n",
    "Features can be combined to create a feature series, which is a series of features that are evaluated sequentially. This is done using the add operator (+), the multiply operator (\\*), and the power operator (\\*\\*)."
   ]
  },
  {
   "cell_type": "markdown",
   "metadata": {},
   "source": [
    "### Adding features (+)\n",
    "\n",
    "The add operator (+) combines two features such that the output of the left side is set as the input to the feature to the right. For example, `foobar = foo + bar`, where foo and bar are features. Here, when an image is resolved from foobar, it first resolves an image from foo, then uses this image as the input to resolve an image from bar.\n",
    "\n",
    "This operation returns a `FeatureBranch` instance, which contains the two features."
   ]
  },
  {
   "cell_type": "code",
   "execution_count": 7,
   "metadata": {},
   "outputs": [
    {
     "name": "stdout",
     "output_type": "stream",
     "text": [
      "The current value of my_property is foo\n",
      "The current value of my_property is bar\n"
     ]
    }
   ],
   "source": [
    "foobar = Foo(my_property=\"foo\") + Foo(my_property=\"bar\")\n",
    "\n",
    "output_image = foobar.resolve(input_image)"
   ]
  },
  {
   "cell_type": "markdown",
   "metadata": {},
   "source": [
    "### Multiplying feature with number (\\*)\n",
    "\n",
    "Multiplying a feature `F` with a number `p` creates a new feature that has a proability `p` of resolving the feature `F`, and a probability `1-p` to return the input image without modifying it. "
   ]
  },
  {
   "cell_type": "code",
   "execution_count": 14,
   "metadata": {},
   "outputs": [
    {
     "name": "stdout",
     "output_type": "stream",
     "text": [
      "The current value of my_property is 0\n",
      "The current value of my_property is 1\n",
      "The current value of my_property is 3\n",
      "The current value of my_property is 8\n",
      "The current value of my_property is 9\n"
     ]
    }
   ],
   "source": [
    "foo = Foo(my_property=0) * 0.5\n",
    "for i in range(1, 10):\n",
    "    foo = foo + Foo(my_property=i) * 0.5\n",
    "    \n",
    "# foo is here 10 instances of Foo, each with a 50 % chance of being resolved.\n",
    "\n",
    "output_image = foo.resolve(input_image)"
   ]
  },
  {
   "cell_type": "markdown",
   "metadata": {},
   "source": [
    "### Exponentiating feature with integer (\\*\\*)\n",
    "\n",
    "The pow operator (\\*\\*) takes a feature `F` and an integer `i` and creates `i` deep copies of the feature, which are added to the feature series at resolve time.  Since this is done at resolve time, the right hand side can be any value that returns an integer when sampled. For example, `Foo()**5` will create 5 deep copies of the instance of Foo and add them to the feature series.\n",
    "\n",
    "Note that that since the features are deep copied, properties that reference these features may produce unintended results. "
   ]
  },
  {
   "cell_type": "code",
   "execution_count": 16,
   "metadata": {},
   "outputs": [
    {
     "name": "stdout",
     "output_type": "stream",
     "text": [
      "The current value of my_property is quux\n",
      "The current value of my_property is qux\n",
      "The current value of my_property is quux\n",
      "The current value of my_property is baz\n",
      "The current value of my_property is baz\n"
     ]
    }
   ],
   "source": [
    "foo = Foo(my_property = [\"bar\", \"baz\", \"qux\", \"quux\"]) \n",
    "\n",
    "output_image = (foo**5).resolve(input_image)"
   ]
  },
  {
   "cell_type": "code",
   "execution_count": 19,
   "metadata": {},
   "outputs": [
    {
     "name": "stdout",
     "output_type": "stream",
     "text": [
      "The current value of my_property is baz\n",
      "The current value of my_property is bar\n",
      "The current value of my_property is quux\n"
     ]
    }
   ],
   "source": [
    "output_image = (foo**[3, 4, 5]).resolve(input_image)"
   ]
  },
  {
   "cell_type": "markdown",
   "metadata": {},
   "source": [
    "## Example - Image with random circles"
   ]
  },
  {
   "cell_type": "code",
   "execution_count": 23,
   "metadata": {},
   "outputs": [
    {
     "data": {
      "image/png": "[encoded data removed]",
      "text/plain": [
       "<Figure size 432x288 with 1 Axes>"
      ]
     },
     "metadata": {
      "needs_background": "light"
     },
     "output_type": "display_data"
    }
   ],
   "source": [
    "from matplotlib import pyplot as plt\n",
    "\n",
    "\n",
    "# Implementation of the abstract class Feature that draws a circle on an image.\n",
    "class Circle(Feature):\n",
    "    def get(self, image, position=None, radius=None, intensity=None):\n",
    "        X, Y = np.meshgrid(np.arange(image.shape[0]), np.arange(image.shape[1]))\n",
    "        mask = (X - position[0])**2 + (Y - position[1])**2 < radius**2\n",
    "        image[mask] = intensity\n",
    "        return image\n",
    "\n",
    "circle = Circle(\n",
    "    position=lambda: np.random.rand(2) * 512,\n",
    "    radius=lambda: 20 + np.random.rand() * 20,\n",
    "    intensity=1\n",
    ")\n",
    "\n",
    "input_image = Image(np.zeros((512, 512)))\n",
    "\n",
    "output_image = (circle**10).resolve(input_image) \n",
    "\n",
    "plt.imshow(output_image)\n",
    "plt.show()"
   ]
  },
  {
   "cell_type": "markdown",
   "metadata": {},
   "source": [
    "## Example - Image with stacked circles\n",
    "\n",
    "It's not unusual for a feature to depend on some other feature. Due to the way features are updated, we can only reliably depend on features that are resolved earlier in the sequence. Dependent features can typically not be wrapped by a \\*\\* operator, since the reference pointers will not be correctly copied. "
   ]
  },
  {
   "cell_type": "code",
   "execution_count": 24,
   "metadata": {},
   "outputs": [
    {
     "data": {
      "image/png": "[encoded data removed]",
      "text/plain": [
       "<Figure size 432x288 with 1 Axes>"
      ]
     },
     "metadata": {
      "needs_background": "light"
     },
     "output_type": "display_data"
    }
   ],
   "source": [
    "# Due to python scoping rules, we need to move this evaluation\n",
    "# to its own scope. This is why we use wrapped function instead\n",
    "# of lambda functions.\n",
    "def get_position(base):\n",
    "    def func():\n",
    "        return base.properties[\"position\"].current_value\n",
    "    return func\n",
    "\n",
    "def get_radius(base, mul_factor):\n",
    "    def func():\n",
    "        return base.properties[\"radius\"].current_value*mul_factor\n",
    "    return func\n",
    "\n",
    "# Since layer1 references the instance \"base\", we can't use the ** syntax\n",
    "# to duplicate the feature. Instead we use a for-loop.\n",
    "for i in range(10):\n",
    "    \n",
    "    base = Circle(\n",
    "        position=lambda: np.random.rand(2) * 512,\n",
    "        radius=lambda: 20 + np.random.rand() * 20,\n",
    "        intensity=1\n",
    "    )\n",
    "   \n",
    "    layer1 = Circle(\n",
    "        position=get_position(base),\n",
    "        radius=get_radius(base, 0.75),\n",
    "        intensity=2\n",
    "    )\n",
    "\n",
    "    layer2 = Circle(\n",
    "        position=get_position(base),\n",
    "        radius=get_radius(base, 0.5),\n",
    "        intensity=3\n",
    "    )\n",
    "    \n",
    "    stack = base + layer1 + layer2\n",
    "    \n",
    "    if i == 0:\n",
    "        features = stack\n",
    "    else: \n",
    "        features = features + stack\n",
    "        \n",
    "input_image = Image(np.zeros((512, 512)))\n",
    "output_image = features.resolve(input_image) \n",
    "\n",
    "plt.imshow(output_image)\n",
    "plt.show()"
   ]
  },
  {
   "cell_type": "markdown",
   "metadata": {},
   "source": [
    "## Example - Image with pow operator friendly stacked circles "
   ]
  },
  {
   "cell_type": "code",
   "execution_count": 26,
   "metadata": {},
   "outputs": [
    {
     "data": {
      "image/png": "[encoded data removed]",
      "text/plain": [
       "<Figure size 432x288 with 1 Axes>"
      ]
     },
     "metadata": {
      "needs_background": "light"
     },
     "output_type": "display_data"
    }
   ],
   "source": [
    "# We create a new Feature subclass that takes a list of features and\n",
    "# updates the position and radius values of every feature in the list\n",
    "# before resolving them.\n",
    "class StackedCircles(Feature):\n",
    "    def get(self, image, position=None, radius=None, feature_list=None):\n",
    "        \n",
    "        for feature in feature_list:\n",
    "            feature.properties[\"position\"].current_value = position\n",
    "            feature.properties[\"radius\"].current_value = radius\n",
    "            \n",
    "            radius *= 0.8\n",
    "            image = feature.resolve(image)\n",
    "            \n",
    "        return image\n",
    "\n",
    "    \n",
    "base = Circle(\n",
    "    position=None,\n",
    "    radius=None,\n",
    "    intensity=1\n",
    ")\n",
    "\n",
    "layer1 = Circle(\n",
    "    position=None,\n",
    "    radius=None,\n",
    "    intensity=2\n",
    ")\n",
    "\n",
    "layer2 = Circle(\n",
    "    position=None,\n",
    "    radius=None,\n",
    "    intensity=3\n",
    ")\n",
    "\n",
    "stack = StackedCircles(\n",
    "    position=lambda: np.random.rand(2) * 512,\n",
    "    radius=lambda: 20 + 20 * np.random.rand(),\n",
    "    feature_list=lambda: [base, layer1, layer2]\n",
    ")\n",
    "\n",
    "input_image = Image(np.zeros((512, 512)))\n",
    "output_image = (stack**10).resolve(input_image) \n",
    "\n",
    "plt.imshow(output_image)\n",
    "plt.show()"
   ]
  },
  {
   "cell_type": "markdown",
   "metadata": {},
   "source": [
    "## Example - Image with random non-overlapping circles"
   ]
  },
  {
   "cell_type": "code",
   "execution_count": 36,
   "metadata": {},
   "outputs": [
    {
     "data": {
      "image/png": "[encoded data removed]",
      "text/plain": [
       "<Figure size 432x288 with 1 Axes>"
      ]
     },
     "metadata": {
      "needs_background": "light"
     },
     "output_type": "display_data"
    }
   ],
   "source": [
    "from matplotlib import pyplot as plt\n",
    "\n",
    "RADIUS = 20 # Fixed radius since accessing properties of self is more difficult.\n",
    "\n",
    "# Function that returns a position that is atleast 2 * radius away from every other\n",
    "# circle in the parameter `previous`.\n",
    "def NonOverlappingPosition(previous, position_function, radius):\n",
    "    def func():\n",
    "        \n",
    "        prev_positions = [circle.properties[\"position\"].current_value for circle in previous]\n",
    "        \n",
    "        prev_radius = [circle.properties[\"radius\"].current_value for circle in previous]\n",
    "\n",
    "        overlapping = True\n",
    "        while overlapping:\n",
    "            position = position_function()\n",
    "            overlapping = any([np.sum((position - prev_position)**2) < radius**2 * 2 for prev_position in prev_positions])\n",
    "        return position\n",
    "    return func\n",
    "            \n",
    "    \n",
    "circles = []\n",
    "for i in range(10):\n",
    "    # Create the circle instance\n",
    "    circle = Circle(\n",
    "        position=NonOverlappingPosition(circles[:], lambda: np.random.rand(2) * 512, RADIUS),\n",
    "        radius=RADIUS,\n",
    "        intensity=1\n",
    "    )\n",
    "    circles.append(circle)\n",
    "    \n",
    "    if i == 0:\n",
    "        circle_features = circle\n",
    "    else:\n",
    "        circle_features = circle_features + circle\n",
    "\n",
    "\n",
    "input_image = Image(np.zeros((512,512)))\n",
    "output_image = circle_features.resolve(input_image) \n",
    "\n",
    "plt.imshow(output_image)\n",
    "plt.show()"
   ]
  }
 ],
 "metadata": {
  "kernelspec": {
   "display_name": "Python 3",
   "language": "python",
   "name": "python3"
  },
  "language_info": {
   "codemirror_mode": {
    "name": "ipython",
    "version": 3
   },
   "file_extension": ".py",
   "mimetype": "text/x-python",
   "name": "python",
   "nbconvert_exporter": "python",
   "pygments_lexer": "ipython3",
   "version": "3.6.7"
  }
 },
 "nbformat": 4,
 "nbformat_minor": 2
}
